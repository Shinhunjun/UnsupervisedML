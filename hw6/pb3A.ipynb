{
 "cells": [
  {
   "cell_type": "code",
   "execution_count": 10,
   "id": "b347ba16",
   "metadata": {},
   "outputs": [],
   "source": [
    "import pandas as pd\n",
    "import igraph as ig\n",
    "import numpy as np\n",
    "import matplotlib.pyplot as plt\n",
    "import warnings\n",
    "warnings.filterwarnings(\"ignore\")\n",
    "\n",
    "columns = ['Source', 'Target']\n",
    "df = pd.read_csv('/Users/hunjunsin/Desktop/Jun/Unsupervised/hw6/edges_sampled_2K.csv', names=columns)\n",
    "\n",
    "#create graph\n",
    "\n",
    "G = ig.Graph()\n",
    "G.add_vertices(list(map(str, set(df['Source']).union(set(df['Target'])))))\n",
    "\n",
    "edges = list(zip(df['Source'], df['Target']))\n",
    "edges = [(str(source), str(target)) for source, target in edges]\n",
    "G.add_edges(edges)\n"
   ]
  },
  {
   "cell_type": "code",
   "execution_count": 11,
   "id": "f7af26f1",
   "metadata": {},
   "outputs": [
    {
     "name": "stdout",
     "output_type": "stream",
     "text": [
      "[0, 1, 2, 3, 4, 5, 6, 7, 8, 9, 10, 12, 13, 14, 15, 16, 18, 19, 21, 22, 23, 24, 25, 26, 27, 28, 29, 30, 31, 32, 34, 35, 36, 37, 39, 40, 41, 42, 43, 44, 45, 47, 48, 50, 51, 52, 53, 54, 55, 56, 57, 58, 59, 60, 61, 63, 64, 65, 66, 67, 68, 69, 71, 72, 73, 74, 75, 76, 77, 78, 79, 80, 81, 82, 83, 84, 85, 86, 87, 88, 89, 90, 91, 92, 93, 94, 95, 96, 97, 98, 99, 100, 101, 102, 103, 104, 105, 106, 107, 108, 109, 110, 111, 114, 115, 116, 117, 118, 119, 120, 121, 122, 123, 124, 125, 126, 127, 128, 129, 130, 131, 132, 133, 134, 135, 136, 137, 139, 140, 142, 143, 144, 145, 146, 147, 149, 151, 152, 153, 154, 156, 157, 158, 160, 161, 162, 163, 164, 165, 166, 167, 168, 169, 170, 171, 172, 173, 174, 175, 176, 177, 178, 180, 181, 182, 183, 184, 185, 186, 187, 188, 189, 190, 191, 192, 194, 195, 196, 198, 199, 200, 201, 202, 203, 204, 207, 208, 209, 210, 211, 212, 213, 214, 215, 216, 217, 218, 220, 222, 223, 224, 226, 227, 229, 234, 235, 236, 237, 238, 239, 240, 241, 242, 243, 244, 245, 246, 247, 248, 251, 252, 253, 254, 256, 257, 258, 260, 262, 263, 265, 266, 267, 268, 269, 270, 272, 273, 274, 275, 276, 277, 278, 279, 280, 281, 282, 284, 285, 286, 287, 288, 289, 290, 291, 292, 293, 294, 296, 297, 298, 299, 300, 301, 302, 303, 304, 305, 306, 307, 308, 309, 310, 311, 312, 313, 314, 316, 317]\n",
      "[11, 17, 20, 33, 38, 46, 49, 62, 70, 112, 113, 138, 141, 148, 150, 155, 159, 193, 197, 205, 219, 225, 228, 230, 231, 232, 250, 255, 259, 261, 264, 283, 295, 315]\n",
      "[179, 249]\n",
      "[206, 233]\n",
      "[221, 271]\n"
     ]
    }
   ],
   "source": [
    "c=G.components()\n",
    "for i in c:\n",
    "    print(i)"
   ]
  },
  {
   "cell_type": "code",
   "execution_count": 12,
   "id": "14194a21",
   "metadata": {},
   "outputs": [],
   "source": [
    "def compute_modularity(graph, membership):\n",
    "    \n",
    "    if isinstance(membership, list) and all(isinstance(comm, list) for comm in membership):\n",
    "        membership_list = [-1] * graph.vcount()  # 초기화\n",
    "        for i, community in enumerate(membership):\n",
    "            for node_idx in community:\n",
    "                membership_list[node_idx] = i\n",
    "        return graph.modularity(membership_list)\n",
    "    else:\n",
    "        return graph.modularity(membership)\n"
   ]
  },
  {
   "cell_type": "markdown",
   "id": "af865ef7",
   "metadata": {},
   "source": [
    "Girvan Newman Algorithm"
   ]
  },
  {
   "cell_type": "code",
   "execution_count": 13,
   "id": "c14a99c8",
   "metadata": {},
   "outputs": [],
   "source": [
    "def girvan_newman_max_modularity(graph, max_iter=None):\n",
    "\n",
    "    working_graph = graph.copy()\n",
    "    \n",
    "    # 커뮤니티와 모듈성 이력 추적\n",
    "    community_history = []\n",
    "    modularity_history = []\n",
    "    \n",
    "    # 초기 상태 추가 (연결 컴포넌트)\n",
    "    components = working_graph.components()\n",
    "    community_history.append(components)\n",
    "    \n",
    "    # 멤버십 리스트 형식을 사용하여 모듈성 계산\n",
    "    modularity_history.append(compute_modularity(working_graph, components.membership))\n",
    "    \n",
    "    iteration = 0\n",
    "    while working_graph.ecount() > 0:\n",
    "        if max_iter is not None and iteration >= max_iter:\n",
    "            break\n",
    "            \n",
    "        # Compute Edge betweenness \n",
    "        edge_betweenness = working_graph.edge_betweenness()\n",
    "        \n",
    "        # find the edge with highest betweenness\n",
    "        max_betweenness_index = edge_betweenness.index(max(edge_betweenness))\n",
    "        \n",
    "        # delete the edge\n",
    "        working_graph.delete_edges(max_betweenness_index)\n",
    "        \n",
    "        # find the connected components\n",
    "        components = working_graph.components()\n",
    "        \n",
    "        # 커뮤니티 상태와 모듈성 추적\n",
    "        community_history.append(components)\n",
    "        current_modularity = compute_modularity(working_graph, components.membership)\n",
    "        modularity_history.append(current_modularity)\n",
    "        \n",
    "        iteration += 1\n",
    "    \n",
    "    # find the best modularity\n",
    "    best_idx = np.argmax(modularity_history)\n",
    "    best_communities = community_history[best_idx]\n",
    "    best_modularity = modularity_history[best_idx]\n",
    "    \n",
    "    # 최적의 커뮤니티 구조를 vertex 이름으로 변환\n",
    "    best_communities_named = []\n",
    "    for community in best_communities:\n",
    "        community_named = [working_graph.vs[vertex]['name'] for vertex in community]\n",
    "        best_communities_named.append(community_named)\n",
    "    \n",
    "    return best_communities_named, best_modularity, modularity_history, best_idx, community_history"
   ]
  },
  {
   "cell_type": "code",
   "execution_count": null,
   "id": "dd247fa9",
   "metadata": {},
   "outputs": [
    {
     "name": "stdout",
     "output_type": "stream",
     "text": [
      "Running Girvan-Newman algorithm to maximize modularity...\n",
      "\n",
      "===== comparison with built in library =====\n",
      "Number of communities (custom implementation): 14\n",
      "Number of communities (built-in implementation): 10\n",
      "\n",
      "Modularity score (custom implementation): 0.4142\n",
      "Modularity score (built-in implementation): 0.4147\n",
      "\n",
      "Community sizes (custom): [168, 89, 34, 8, 4, 3, 2, 2, 2, 2, 1, 1, 1, 1]\n",
      "Community sizes (built-in): [172, 89, 34, 8, 4, 3, 2, 2, 2, 2]\n"
     ]
    }
   ],
   "source": [
    "print(\"Running Girvan-Newman algorithm to maximize modularity...\")\n",
    "communities, modularity, modularity_history, best_iter, community_history = girvan_newman_max_modularity(G, max_iter=10)\n",
    "community_sizes = [len(community) for community in communities]\n",
    "\n",
    "print(\"\\n===== comparison with built in library =====\")\n",
    "built_in_communities = G.community_edge_betweenness()\n",
    "built_in_clusters = built_in_communities.as_clustering(n=None)  \n",
    "\n",
    "built_in_result = []\n",
    "for community in built_in_clusters:\n",
    "    community_named = [G.vs[vertex]['name'] for vertex in community]\n",
    "    built_in_result.append(community_named)\n",
    "\n",
    "# compare the number of communities\n",
    "print(f\"Number of communities (custom implementation): {len(communities)}\")\n",
    "print(f\"Number of communities (built-in implementation): {len(built_in_result)}\")\n",
    "\n",
    "\n",
    "node_to_community = {}\n",
    "for i, community in enumerate(communities):\n",
    "    for node in community:\n",
    "        node_to_community[node] = i\n",
    "\n",
    "custom_membership = [-1] * G.vcount()  # 초기화\n",
    "for i in range(G.vcount()):\n",
    "    node_name = G.vs[i]['name']\n",
    "    if node_name in node_to_community:\n",
    "        custom_membership[i] = node_to_community[node_name]\n",
    "\n",
    "custom_modularity = G.modularity(custom_membership)\n",
    "built_in_modularity = built_in_clusters.modularity\n",
    "\n",
    "print(f\"\\nModularity score (custom implementation): {custom_modularity:.4f}\")\n",
    "print(f\"Modularity score (built-in implementation): {built_in_modularity:.4f}\")\n",
    "\n",
    "custom_sizes = sorted([len(comm) for comm in communities], reverse=True)\n",
    "built_in_sizes = sorted([len(comm) for comm in built_in_result], reverse=True)\n",
    "\n",
    "print(f\"\\nCommunity sizes (custom): {custom_sizes}\")\n",
    "print(f\"Community sizes (built-in): {built_in_sizes}\")\n",
    "\n",
    "community_counts = [len(community_history[i]) for i in range(len(modularity_history))]\n"
   ]
  },
  {
   "cell_type": "code",
   "execution_count": null,
   "id": "742d8646",
   "metadata": {},
   "outputs": [],
   "source": []
  }
 ],
 "metadata": {
  "kernelspec": {
   "display_name": "Python 3",
   "language": "python",
   "name": "python3"
  },
  "language_info": {
   "codemirror_mode": {
    "name": "ipython",
    "version": 3
   },
   "file_extension": ".py",
   "mimetype": "text/x-python",
   "name": "python",
   "nbconvert_exporter": "python",
   "pygments_lexer": "ipython3",
   "version": "3.11.6"
  }
 },
 "nbformat": 4,
 "nbformat_minor": 5
}
