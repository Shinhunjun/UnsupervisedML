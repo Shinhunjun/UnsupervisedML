{
 "cells": [
  {
   "cell_type": "markdown",
   "metadata": {},
   "source": [
    "DEMO TO Joyanthan Nanduri"
   ]
  },
  {
   "cell_type": "code",
   "execution_count": 1,
   "metadata": {},
   "outputs": [],
   "source": [
    "import requests\n",
    "\n",
    "url = 'https://www.ccs.neu.edu/home/vip/teach/DMcourse/2_cluster_EM_mixt/HW2/2gaussian.txt'\n",
    "response = requests.get(url)\n",
    "\n",
    "with open('2gaussian.txt', 'w') as file:\n",
    "    file.write(response.text)"
   ]
  },
  {
   "cell_type": "code",
   "execution_count": 2,
   "metadata": {},
   "outputs": [
    {
     "name": "stdout",
     "output_type": "stream",
     "text": [
      "Means: [[3.02812092 3.04761164]\n",
      " [7.03006483 3.9934325 ]]\n",
      "Covariances: [[[1.06804592 0.01976191]\n",
      "  [0.01976191 2.91181392]]\n",
      "\n",
      " [[0.94625701 0.48018796]\n",
      "  [0.48018796 0.98610351]]]\n",
      "Weights: [0.3404511 0.6595489]\n"
     ]
    },
    {
     "name": "stderr",
     "output_type": "stream",
     "text": [
      "/var/folders/5n/z64_841d7zn4lzhk5r1t4m700000gn/T/ipykernel_80115/2743682440.py:5: FutureWarning: The 'delim_whitespace' keyword in pd.read_csv is deprecated and will be removed in a future version. Use ``sep='\\s+'`` instead\n",
      "  data = pd.read_csv('2gaussian.txt', delim_whitespace=True, header=None)\n"
     ]
    }
   ],
   "source": [
    "import pandas as pd\n",
    "from sklearn.mixture import GaussianMixture\n",
    "\n",
    "# Load the data\n",
    "data = pd.read_csv('2gaussian.txt', delim_whitespace=True, header=None)\n",
    "X = data.values\n",
    "\n",
    "# Fit Gaussian Mixture Model\n",
    "gmm = GaussianMixture(n_components=2, random_state=0)\n",
    "gmm.fit(X)\n",
    "\n",
    "# Print the parameters\n",
    "print(\"Means:\", gmm.means_)\n",
    "print(\"Covariances:\", gmm.covariances_)\n",
    "print(\"Weights:\", gmm.weights_)"
   ]
  },
  {
   "cell_type": "code",
   "execution_count": 3,
   "metadata": {},
   "outputs": [],
   "source": [
    "import requests\n",
    "\n",
    "url = 'https://www.ccs.neu.edu/home/vip/teach/DMcourse/2_cluster_EM_mixt/HW2/3gaussian.txt'\n",
    "response = requests.get(url)\n",
    "\n",
    "with open('3gaussian.txt', 'w') as file:\n",
    "    file.write(response.text)"
   ]
  },
  {
   "cell_type": "code",
   "execution_count": 4,
   "metadata": {},
   "outputs": [
    {
     "name": "stdout",
     "output_type": "stream",
     "text": [
      "Means: [[3.03154145 2.89101341]\n",
      " [7.02667135 4.02590275]\n",
      " [4.97663138 6.98270082]]\n",
      "Covariances: [[[ 1.05349568 -0.03031604]\n",
      "  [-0.03031604  3.02227499]]\n",
      "\n",
      " [[ 0.97768457  0.48539081]\n",
      "  [ 0.48539081  0.98967531]]\n",
      "\n",
      " [[ 1.02561306  0.21625819]\n",
      "  [ 0.21625819  0.99652383]]]\n",
      "Weights: [0.19633294 0.29821127 0.50545579]\n"
     ]
    },
    {
     "name": "stderr",
     "output_type": "stream",
     "text": [
      "/var/folders/5n/z64_841d7zn4lzhk5r1t4m700000gn/T/ipykernel_80115/96723250.py:5: FutureWarning: The 'delim_whitespace' keyword in pd.read_csv is deprecated and will be removed in a future version. Use ``sep='\\s+'`` instead\n",
      "  data = pd.read_csv('3gaussian.txt', delim_whitespace=True, header=None)\n"
     ]
    }
   ],
   "source": [
    "import pandas as pd\n",
    "from sklearn.mixture import GaussianMixture\n",
    "\n",
    "# Load the data\n",
    "data = pd.read_csv('3gaussian.txt', delim_whitespace=True, header=None)\n",
    "X = data.values\n",
    "\n",
    "# Fit Gaussian Mixture Model\n",
    "gmm = GaussianMixture(n_components=3, random_state=0)\n",
    "gmm.fit(X)\n",
    "\n",
    "# Print the parameters\n",
    "print(\"Means:\", gmm.means_)\n",
    "print(\"Covariances:\", gmm.covariances_)\n",
    "print(\"Weights:\", gmm.weights_)"
   ]
  },
  {
   "cell_type": "code",
   "execution_count": 5,
   "metadata": {},
   "outputs": [],
   "source": [
    "import numpy as np\n",
    "import matplotlib.pyplot as plt\n",
    "from scipy.spatial.distance import cdist\n",
    "from tqdm import tqdm\n",
    "import pandas as pd"
   ]
  },
  {
   "cell_type": "code",
   "execution_count": 6,
   "metadata": {},
   "outputs": [],
   "source": [
    "def gaussian_pdf(x, mean, cov): #multi-gaussian\n",
    "    k = mean.shape[0]\n",
    "    det_cov = np.linalg.det(cov)\n",
    "    inv_cov = np.linalg.inv(cov)\n",
    "    norm_const = 1.0/ (np.power((2 * np.pi), k / 2) * np.sqrt(det_cov))\n",
    "    diff = x - mean\n",
    "    exponent = -0.5 * np.sum(diff @ inv_cov * diff, axis=1)\n",
    "    return norm_const * np.exp(exponent)"
   ]
  },
  {
   "cell_type": "code",
   "execution_count": 7,
   "metadata": {},
   "outputs": [],
   "source": [
    "def load_data(filename):\n",
    "    return np.loadtxt(filename)\n",
    "\n",
    "def initialize_parameters(data, K):\n",
    "    n, d = data.shape\n",
    "    means = np.random.rand(K, d) * np.max(data, axis=0)\n",
    "    covariances = np.array([np.eye(d) for _ in range(K)])  # Initialize with identity matrices\n",
    "    weights = np.ones(K) / K\n",
    "    return means, covariances, weights\n",
    "\n",
    "# E-step: Compute responsibilities\n",
    "def e_step(data, means, covariances, weights):\n",
    "    N, K = len(data), len(weights)\n",
    "    responsibilities = np.zeros((N, K))\n",
    "    for k in range(K):\n",
    "        responsibilities[:, k] = weights[k] * gaussian_pdf(data, means[k], covariances[k])\n",
    "    responsibilities /= responsibilities.sum(axis=1, keepdims=True)\n",
    "    return responsibilities\n",
    "\n",
    "# M-step: Update parameters\n",
    "def m_step(data, responsibilities):\n",
    "    N, d = data.shape\n",
    "    K = responsibilities.shape[1]\n",
    "    means = np.zeros((K, d))\n",
    "    covariances = np.zeros((K, d, d))\n",
    "    weights = np.zeros(K)\n",
    "\n",
    "    for k in range(K):\n",
    "        Nk = responsibilities[:, k].sum()\n",
    "        weights[k] = Nk / N #update weights\n",
    "        means[k] = (responsibilities[:, k] @ data) / Nk #update means\n",
    "        diff = data - means[k] \n",
    "        covariances[k] = (responsibilities[:, k, None, None] * (diff[:, :, None] @ diff[:, None, :])).sum(axis=0) / Nk # update covariances\n",
    "\n",
    "    return means, covariances, weights\n",
    "\n",
    "# Log-likelihood computation\n",
    "def log_likelihood(data, means, covariances, weights):\n",
    "    N = len(data)\n",
    "    K = len(weights)\n",
    "    likelihood = np.zeros(N)\n",
    "    for k in range(K):\n",
    "        likelihood += weights[k] * gaussian_pdf(data, mean=means[k], cov=covariances[k])\n",
    "    return np.sum(np.log(likelihood))\n",
    "\n",
    "# EM algorithm\n",
    "def em_algorithm(data, K, max_iter=250, tol=1e-6):\n",
    "    means, covariances, weights = initialize_parameters(data, K)\n",
    "    log_likelihoods = []\n",
    "\n",
    "    for iteration in range(max_iter):\n",
    "        responsibilities = e_step(data, means, covariances, weights)\n",
    "        means, covariances, weights = m_step(data, responsibilities)\n",
    "        log_likelihoods.append(log_likelihood(data, means, covariances, weights))\n",
    "\n",
    "        if iteration > 0 and abs(log_likelihoods[-1] - log_likelihoods[-2]) < tol:\n",
    "            break\n",
    "\n",
    "    return means, covariances, weights\n"
   ]
  },
  {
   "cell_type": "code",
   "execution_count": 8,
   "metadata": {},
   "outputs": [
    {
     "name": "stdout",
     "output_type": "stream",
     "text": [
      "2-Gaussian Results:\n",
      "Means: [[7.01313621 3.98312727]\n",
      " [2.99410852 3.05209937]]\n",
      "Covariances: [[[0.97478003 0.49748229]\n",
      "  [0.49748229 1.00115271]]\n",
      "\n",
      " [[1.01019574 0.02719559]\n",
      "  [0.02719559 2.93784107]]]\n",
      "Weights: [0.66520818 0.33479182]\n",
      "3-Gaussian Results:\n",
      "Means: [[3.03973478 3.04860601]\n",
      " [5.01174455 7.00148652]\n",
      " [7.02157133 4.01546601]]\n",
      "Covariances: [[[1.02853502 0.02690254]\n",
      "  [0.02690254 3.3849301 ]]\n",
      "\n",
      " [[0.97969377 0.18514551]\n",
      "  [0.18514551 0.97452511]]\n",
      "\n",
      " [[0.99039647 0.50095308]\n",
      "  [0.50095308 0.99564799]]]\n",
      "Weights: [0.20560582 0.49595885 0.29843532]\n"
     ]
    }
   ],
   "source": [
    "file_2gaussian = \"2gaussian.txt\"\n",
    "file_3gaussian = \"3gaussian.txt\"\n",
    "\n",
    "# Load data\n",
    "data_2gaussian = load_data(file_2gaussian)\n",
    "data_3gaussian = load_data(file_3gaussian)\n",
    "\n",
    "# Run EM for 2-Gaussian mixture\n",
    "means_2, covs_2, weights_2= em_algorithm(data_2gaussian, K=2)\n",
    "print(\"2-Gaussian Results:\")\n",
    "print(\"Means:\", means_2)\n",
    "print(\"Covariances:\", covs_2)\n",
    "print(\"Weights:\", weights_2)\n",
    "\n",
    "# Run EM for 3-Gaussian mixture\n",
    "means_3, covs_3, weights_3= em_algorithm(data_3gaussian, K=3)\n",
    "print(\"3-Gaussian Results:\")\n",
    "print(\"Means:\", means_3)\n",
    "print(\"Covariances:\", covs_3)\n",
    "print(\"Weights:\", weights_3)\n"
   ]
  }
 ],
 "metadata": {
  "kernelspec": {
   "display_name": "Python 3",
   "language": "python",
   "name": "python3"
  },
  "language_info": {
   "codemirror_mode": {
    "name": "ipython",
    "version": 3
   },
   "file_extension": ".py",
   "mimetype": "text/x-python",
   "name": "python",
   "nbconvert_exporter": "python",
   "pygments_lexer": "ipython3",
   "version": "3.11.6"
  }
 },
 "nbformat": 4,
 "nbformat_minor": 2
}
