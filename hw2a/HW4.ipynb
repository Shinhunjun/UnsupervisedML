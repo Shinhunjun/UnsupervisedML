{
 "cells": [
  {
   "cell_type": "markdown",
   "metadata": {},
   "source": [
    "Demo to Rutvik Dhopate"
   ]
  },
  {
   "cell_type": "code",
   "execution_count": 6,
   "metadata": {},
   "outputs": [],
   "source": [
    "import numpy as np\n",
    "file_path =\" https://www.ccs.neu.edu/home/vip/teach/DMcourse/2_cluster_EM_mixt/HW2/coin_flips_outcome.txt \"\n",
    "\n",
    "def load_data(filename):\n",
    "    return np.loadtxt(filename)\n",
    "\n",
    "df = load_data(file_path)"
   ]
  },
  {
   "cell_type": "markdown",
   "metadata": {},
   "source": [
    "pi: Probabilities of coin[A,B,C] is used at the experiment\n",
    "p = Probabilities of coin[A,B,C] gives Head"
   ]
  },
  {
   "cell_type": "code",
   "execution_count": 16,
   "metadata": {},
   "outputs": [
    {
     "name": "stdout",
     "output_type": "stream",
     "text": [
      "Estimated pi: [0.51458877 0.30685623 0.178555  ]\n",
      "Estimated p: [0.61005641 0.23694122 0.93172936]\n"
     ]
    }
   ],
   "source": [
    "import numpy as np\n",
    "from scipy.special import comb\n",
    "\n",
    "def binomial_prob(x, p, D):\n",
    "    return comb(D, x) * (p ** x) * ((1 - p) ** (D - x))\n",
    "\n",
    "def em_coin_flips(data, D, max_iter=100, tol=1e-6):\n",
    "    N = len(data)\n",
    "    K = 3  \n",
    "\n",
    "    #initialize\n",
    "    pi = np.random.dirichlet([1, 1, 1])  # Random initial pi_A, pi_B, pi_C\n",
    "    p = np.random.rand(K)  # Random initial p_A, p_B, p_C\n",
    "\n",
    "    for iteration in range(max_iter):\n",
    "        # E-step: Compute responsibilities (r[n, k])\n",
    "        responsibilities = np.zeros((N, K))\n",
    "        for n in range(N):\n",
    "            for k in range(K):\n",
    "                responsibilities[n, k] = pi[k] * binomial_prob(data[n], p[k], D)\n",
    "            responsibilities[n, :] /= np.sum(responsibilities[n, :])  # Normalize\n",
    "\n",
    "        # M-step: Update pi and p\n",
    "        N_k = responsibilities.sum(axis=0)  # Effective number of sessions for each coin\n",
    "        pi = N_k / N  # Update pi\n",
    "        p = np.array([\n",
    "            np.sum(responsibilities[:, k] * data) / (N_k[k] * D) for k in range(K)\n",
    "        ])  # Update p\n",
    "\n",
    "        # log likelihood change\n",
    "        log_likelihood = np.sum([\n",
    "            np.log(np.sum([\n",
    "                pi[k] * binomial_prob(data[n], p[k], D) for k in range(K)\n",
    "            ])) for n in range(N)\n",
    "        ])\n",
    "        if iteration > 0 and abs(log_likelihood - prev_log_likelihood) < tol:\n",
    "            break\n",
    "        prev_log_likelihood = log_likelihood\n",
    "\n",
    "    return pi, p\n",
    "\n",
    "# Example data: Number of heads in each session (N=50, D=20)\n",
    "data = np.array(df).sum(axis=1)\n",
    "len(data)\n",
    "# Run EM algorithm\n",
    "D = 20  # Number of flips per session\n",
    "pi, p = em_coin_flips(data, D)\n",
    "print(\"Estimated pi:\", pi)\n",
    "print(\"Estimated p:\", p)"
   ]
  }
 ],
 "metadata": {
  "kernelspec": {
   "display_name": "Python 3",
   "language": "python",
   "name": "python3"
  },
  "language_info": {
   "codemirror_mode": {
    "name": "ipython",
    "version": 3
   },
   "file_extension": ".py",
   "mimetype": "text/x-python",
   "name": "python",
   "nbconvert_exporter": "python",
   "pygments_lexer": "ipython3",
   "version": "3.11.6"
  }
 },
 "nbformat": 4,
 "nbformat_minor": 2
}
