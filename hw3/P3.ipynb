{
 "cells": [
  {
   "cell_type": "markdown",
   "metadata": {},
   "source": [
    "\n",
    "Demo to Raghu"
   ]
  },
  {
   "cell_type": "code",
   "execution_count": null,
   "metadata": {},
   "outputs": [
    {
     "name": "stdout",
     "output_type": "stream",
     "text": [
      "x_train shape: (60000, 28, 28)\n",
      "y_train shape: (60000,)\n",
      "x_test shape: (10000, 28, 28)\n",
      "y_test shape: (10000,)\n"
     ]
    }
   ],
   "source": [
    "from tensorflow.keras.datasets import mnist\n",
    "\n",
    "(x_train, y_train), (x_test, y_test) = mnist.load_data()\n",
    "\n",
    "print(f\"x_train shape: {x_train.shape}\")\n",
    "print(f\"y_train shape: {y_train.shape}\")\n",
    "print(f\"x_test shape: {x_test.shape}\")\n",
    "print(f\"y_test shape: {y_test.shape}\")"
   ]
  },
  {
   "cell_type": "code",
   "execution_count": null,
   "metadata": {},
   "outputs": [
    {
     "name": "stdout",
     "output_type": "stream",
     "text": [
      "x_train_scaled shape: (60000, 784)\n",
      "x_test_scaled shape: (10000, 784)\n"
     ]
    }
   ],
   "source": [
    "from sklearn.preprocessing import StandardScaler\n",
    "\n",
    "x_train_reshaped = x_train.reshape(x_train.shape[0], -1)\n",
    "x_test_reshaped = x_test.reshape(x_test.shape[0], -1)\n",
    "\n",
    "scaler = StandardScaler()\n",
    "\n",
    "x_train_scaled = scaler.fit_transform(x_train_reshaped)\n",
    "x_test_scaled = scaler.transform(x_test_reshaped)\n",
    "\n",
    "print(f\"x_train_scaled shape: {x_train_scaled.shape}\")\n",
    "print(f\"x_test_scaled shape: {x_test_scaled.shape}\")"
   ]
  },
  {
   "cell_type": "code",
   "execution_count": null,
   "metadata": {},
   "outputs": [
    {
     "name": "stdout",
     "output_type": "stream",
     "text": [
      "X_train_reduced_5 shape: (60000, 5)\n",
      "X_test_reduced_5 shape: (10000, 5)\n",
      "X_reduced_20 shape: (60000, 20)\n",
      "X_reduced_20 shape: (10000, 20)\n"
     ]
    }
   ],
   "source": [
    "import numpy as np\n",
    "import matplotlib.pyplot as plt\n",
    "\n",
    "def my_pca(X, D):\n",
    "\n",
    "    N = X.shape[0]\n",
    "  \n",
    "    covariance_matrix = np.dot(X.T, X) / (N - 1)\n",
    "    \n",
    "    eigenvalues, eigenvectors = np.linalg.eigh(covariance_matrix)\n",
    "    \n",
    "    # sot eigien values in decreasing order\n",
    "    sorted_idx = np.argsort(eigenvalues)[::-1]\n",
    "    eigenvalues = eigenvalues[sorted_idx]\n",
    "    eigenvectors = eigenvectors[:, sorted_idx]\n",
    "    \n",
    "    #select D eigenvectors\n",
    "    W = eigenvectors[:, :D]  # shape (d, D)\n",
    "    X_reduced = np.dot(X, W)  # projection to new coordinate system, shape (N, D)\n",
    "    \n",
    "    return X_reduced, W, eigenvalues\n",
    "\n",
    "\n",
    "X_train_reduced_5, W5, eigenvalues = my_pca(x_train_scaled, D=5)\n",
    "X_test_reduced_5 = np.dot(x_test_scaled, W5)\n",
    "\n",
    "X_train_reduced_20, W20, eigenvalues = my_pca(x_train_scaled, D=20)\n",
    "X_test_reduced_20 = np.dot(x_test_scaled, W20)\n",
    "\n",
    "print(\"X_train_reduced_5 shape:\", X_train_reduced_5.shape)   \n",
    "print(\"X_test_reduced_5 shape:\", X_test_reduced_5.shape)   \n",
    "print(\"X_reduced_20 shape:\", X_train_reduced_20.shape) \n",
    "print(\"X_reduced_20 shape:\", X_test_reduced_20.shape) \n"
   ]
  },
  {
   "cell_type": "code",
   "execution_count": null,
   "metadata": {},
   "outputs": [],
   "source": [
    "from sklearn.linear_model import LogisticRegression\n",
    "\n",
    "model_lr = LogisticRegression(\n",
    "    penalty='l2',\n",
    "    C=1.0,          \n",
    "    solver='lbfgs', \n",
    "    max_iter=1000,  \n",
    "    random_state=42\n",
    ")"
   ]
  },
  {
   "cell_type": "code",
   "execution_count": null,
   "metadata": {},
   "outputs": [
    {
     "name": "stdout",
     "output_type": "stream",
     "text": [
      "Accuracy: 0.6800\n",
      "Classification Report:\n",
      "              precision    recall  f1-score   support\n",
      "\n",
      "           0       0.78      0.81      0.79       980\n",
      "           1       0.88      0.95      0.91      1135\n",
      "           2       0.66      0.60      0.63      1032\n",
      "           3       0.62      0.74      0.67      1010\n",
      "           4       0.65      0.63      0.64       982\n",
      "           5       0.47      0.29      0.36       892\n",
      "           6       0.80      0.83      0.81       958\n",
      "           7       0.73      0.77      0.75      1028\n",
      "           8       0.48      0.47      0.48       974\n",
      "           9       0.59      0.63      0.61      1009\n",
      "\n",
      "    accuracy                           0.68     10000\n",
      "   macro avg       0.67      0.67      0.67     10000\n",
      "weighted avg       0.67      0.68      0.67     10000\n",
      "\n"
     ]
    }
   ],
   "source": [
    "model_lr.fit(X_train_reduced_5, y_train)\n",
    "\n",
    "from sklearn.metrics import accuracy_score, classification_report\n",
    "\n",
    "y_pred = model_lr.predict(X_test_reduced_5)\n",
    "accuracy = accuracy_score(y_test, y_pred)\n",
    "print(f\"Accuracy: {accuracy:.4f}\")\n",
    "print(\"Classification Report:\")\n",
    "print(classification_report(y_test, y_pred))"
   ]
  },
  {
   "cell_type": "code",
   "execution_count": 6,
   "metadata": {},
   "outputs": [
    {
     "name": "stdout",
     "output_type": "stream",
     "text": [
      "Accuracy: 0.8721\n",
      "Classification Report:\n",
      "              precision    recall  f1-score   support\n",
      "\n",
      "           0       0.91      0.94      0.92       980\n",
      "           1       0.95      0.97      0.96      1135\n",
      "           2       0.89      0.84      0.86      1032\n",
      "           3       0.84      0.86      0.85      1010\n",
      "           4       0.87      0.89      0.88       982\n",
      "           5       0.81      0.79      0.80       892\n",
      "           6       0.90      0.91      0.91       958\n",
      "           7       0.89      0.87      0.88      1028\n",
      "           8       0.82      0.80      0.81       974\n",
      "           9       0.82      0.84      0.83      1009\n",
      "\n",
      "    accuracy                           0.87     10000\n",
      "   macro avg       0.87      0.87      0.87     10000\n",
      "weighted avg       0.87      0.87      0.87     10000\n",
      "\n"
     ]
    }
   ],
   "source": [
    "model_lr.fit(X_train_reduced_20, y_train)\n",
    "\n",
    "from sklearn.metrics import accuracy_score, classification_report\n",
    "y_pred = model_lr.predict(X_test_reduced_20)\n",
    "accuracy = accuracy_score(y_test, y_pred)\n",
    "print(f\"Accuracy: {accuracy:.4f}\")\n",
    "print(\"Classification Report:\")\n",
    "print(classification_report(y_test, y_pred))"
   ]
  },
  {
   "cell_type": "code",
   "execution_count": null,
   "metadata": {},
   "outputs": [
    {
     "name": "stdout",
     "output_type": "stream",
     "text": [
      "Accuracy: 0.6947\n",
      "Classification Report:\n",
      "              precision    recall  f1-score   support\n",
      "\n",
      "           0       0.78      0.84      0.81       980\n",
      "           1       0.94      0.95      0.94      1135\n",
      "           2       0.68      0.71      0.69      1032\n",
      "           3       0.66      0.67      0.67      1010\n",
      "           4       0.61      0.61      0.61       982\n",
      "           5       0.53      0.39      0.45       892\n",
      "           6       0.88      0.83      0.86       958\n",
      "           7       0.74      0.77      0.75      1028\n",
      "           8       0.45      0.50      0.47       974\n",
      "           9       0.60      0.63      0.62      1009\n",
      "\n",
      "    accuracy                           0.69     10000\n",
      "   macro avg       0.69      0.69      0.69     10000\n",
      "weighted avg       0.69      0.69      0.69     10000\n",
      "\n"
     ]
    }
   ],
   "source": [
    "from sklearn.tree import DecisionTreeClassifier\n",
    "from sklearn.model_selection import train_test_split\n",
    "from sklearn.metrics import accuracy_score, classification_report\n",
    "\n",
    "model = DecisionTreeClassifier(random_state=42, max_depth=10)  \n",
    "model.fit(X_train_reduced_5, y_train)\n",
    "\n",
    "y_pred = model.predict(X_test_reduced_5)\n",
    "print(\"Accuracy:\", accuracy_score(y_test, y_pred))\n",
    "print(\"Classification Report:\")\n",
    "print(classification_report(y_test, y_pred))"
   ]
  },
  {
   "cell_type": "code",
   "execution_count": null,
   "metadata": {},
   "outputs": [
    {
     "name": "stdout",
     "output_type": "stream",
     "text": [
      "Accuracy: 0.8027\n",
      "Classification Report:\n",
      "              precision    recall  f1-score   support\n",
      "\n",
      "           0       0.88      0.86      0.87       980\n",
      "           1       0.96      0.94      0.95      1135\n",
      "           2       0.80      0.78      0.79      1032\n",
      "           3       0.78      0.78      0.78      1010\n",
      "           4       0.73      0.80      0.77       982\n",
      "           5       0.79      0.68      0.73       892\n",
      "           6       0.90      0.87      0.89       958\n",
      "           7       0.87      0.79      0.83      1028\n",
      "           8       0.60      0.75      0.67       974\n",
      "           9       0.74      0.74      0.74      1009\n",
      "\n",
      "    accuracy                           0.80     10000\n",
      "   macro avg       0.81      0.80      0.80     10000\n",
      "weighted avg       0.81      0.80      0.80     10000\n",
      "\n"
     ]
    }
   ],
   "source": [
    "from sklearn.tree import DecisionTreeClassifier\n",
    "from sklearn.model_selection import train_test_split\n",
    "from sklearn.metrics import accuracy_score, classification_report\n",
    "\n",
    "model = DecisionTreeClassifier(random_state=42, max_depth=10)  \n",
    "model.fit(X_train_reduced_20, y_train)\n",
    "\n",
    "y_pred = model.predict(X_test_reduced_20)\n",
    "print(\"Accuracy:\", accuracy_score(y_test, y_pred))\n",
    "print(\"Classification Report:\")\n",
    "print(classification_report(y_test, y_pred))"
   ]
  }
 ],
 "metadata": {
  "kernelspec": {
   "display_name": "Python 3",
   "language": "python",
   "name": "python3"
  },
  "language_info": {
   "codemirror_mode": {
    "name": "ipython",
    "version": 3
   },
   "file_extension": ".py",
   "mimetype": "text/x-python",
   "name": "python",
   "nbconvert_exporter": "python",
   "pygments_lexer": "ipython3",
   "version": "3.11.6"
  }
 },
 "nbformat": 4,
 "nbformat_minor": 2
}
