{
 "cells": [
  {
   "cell_type": "markdown",
   "metadata": {},
   "source": [
    "Loading Mnist Data"
   ]
  },
  {
   "cell_type": "code",
   "execution_count": 5,
   "metadata": {},
   "outputs": [
    {
     "name": "stdout",
     "output_type": "stream",
     "text": [
      "DatasetDict({\n",
      "    train: Dataset({\n",
      "        features: ['image', 'label'],\n",
      "        num_rows: 60000\n",
      "    })\n",
      "    test: Dataset({\n",
      "        features: ['image', 'label'],\n",
      "        num_rows: 10000\n",
      "    })\n",
      "})\n",
      "{'image': <PIL.PngImagePlugin.PngImageFile image mode=L size=28x28 at 0x105AFEB50>, 'label': 5}\n",
      "{'image': <PIL.PngImagePlugin.PngImageFile image mode=L size=28x28 at 0x120929010>, 'label': 7}\n"
     ]
    }
   ],
   "source": [
    "from datasets import load_dataset\n",
    "\n",
    "#load data (image)\n",
    "mnist = load_dataset(\"mnist\")\n",
    "\n",
    "print(mnist)\n",
    "print(mnist['train'][0])\n",
    "print(mnist['test'][0])"
   ]
  },
  {
   "cell_type": "markdown",
   "metadata": {},
   "source": [
    "Train, Validation, Test Split"
   ]
  },
  {
   "cell_type": "code",
   "execution_count": 6,
   "metadata": {},
   "outputs": [
    {
     "name": "stdout",
     "output_type": "stream",
     "text": [
      "DatasetDict({\n",
      "    train: Dataset({\n",
      "        features: ['image', 'label'],\n",
      "        num_rows: 56000\n",
      "    })\n",
      "    val: Dataset({\n",
      "        features: ['image', 'label'],\n",
      "        num_rows: 7000\n",
      "    })\n",
      "    test: Dataset({\n",
      "        features: ['image', 'label'],\n",
      "        num_rows: 7000\n",
      "    })\n",
      "})\n"
     ]
    }
   ],
   "source": [
    "from datasets import DatasetDict, concatenate_datasets\n",
    "\n",
    "combined_data = concatenate_datasets([mnist[\"train\"], mnist[\"test\"]])\n",
    "train_val_data = combined_data.train_test_split(test_size=0.2, seed=42)\n",
    "val_test_data = train_val_data[\"test\"].train_test_split(test_size=0.5, seed=42)\n",
    "#train_val_test 8:1:1\n",
    "\n",
    "mnist_split = DatasetDict({\n",
    "    \"train\": train_val_data[\"train\"],\n",
    "    \"val\": val_test_data[\"train\"],\n",
    "    \"test\": val_test_data[\"test\"]\n",
    "})\n",
    "\n",
    "print(mnist_split)"
   ]
  },
  {
   "cell_type": "markdown",
   "metadata": {},
   "source": [
    "Parsing Mnist (IMAGE -> ARRAY)"
   ]
  },
  {
   "cell_type": "code",
   "execution_count": 15,
   "metadata": {},
   "outputs": [],
   "source": [
    "import numpy as np\n",
    "\n",
    "def parsing_data(data):\n",
    "    \n",
    "    images = np.array([np.array(row['image'], dtype=np.float32).flatten() for row in data])\n",
    "    labels = np.array([row['label'] for row in data], dtype=np.int32)\n",
    "    return images, labels\n",
    "#flatten image into 764 dim numpy array\n",
    "\n",
    "train_data, train_labels = parsing_data(mnist_split['train'])\n",
    "val_data, val_labels=parsing_data(mnist_split['val'])\n",
    "test_data , test_labels= parsing_data(mnist_split['test'])"
   ]
  },
  {
   "cell_type": "code",
   "execution_count": 16,
   "metadata": {},
   "outputs": [
    {
     "name": "stdout",
     "output_type": "stream",
     "text": [
      "Befor Parsing\n",
      "mnist train data shape : <PIL.PngImagePlugin.PngImageFile image mode=L size=28x28 at 0x140A4E190>\n",
      "mnist test data shape : <PIL.PngImagePlugin.PngImageFile image mode=L size=28x28 at 0x1208A2190>\n",
      "--------------------------------------------------------------------------------------------------------------------------------------------------------------------------------------------------------------------------------------------------------------------------------------------------------------------------------------------------------------------------------------------------------------------------------------------------------------------------------------------------------------------\n",
      "After Parsing:\n",
      "train data shape: (56000, 784)\n",
      "test data shape: (7000, 784)\n"
     ]
    }
   ],
   "source": [
    "print(\"Befor Parsing\")\n",
    "print(f\"mnist train data shape : {mnist_split['train'][0]['image']}\")\n",
    "print(f\"mnist test data shape : {mnist_split['test'][0]['image']}\")\n",
    "\n",
    "\n",
    "print(\"-\"*500)\n",
    "print(\"After Parsing:\")\n",
    "print(f\"train data shape: {train_data.shape}\")\n",
    "print(f\"test data shape: {test_data.shape}\")"
   ]
  },
  {
   "cell_type": "markdown",
   "metadata": {},
   "source": [
    "Normalization"
   ]
  },
  {
   "cell_type": "code",
   "execution_count": 18,
   "metadata": {},
   "outputs": [
    {
     "name": "stdout",
     "output_type": "stream",
     "text": [
      "Training data shape: (56000, 784)\n",
      "Validation data shape: (7000, 784)\n",
      "Test data shape: (7000, 784)\n"
     ]
    }
   ],
   "source": [
    "def compute_mean_std(data):\n",
    "\n",
    "    mean = data.mean(axis=0)  \n",
    "    std = data.std(axis=0)\n",
    "    \n",
    "    std[std ==0] = 1\n",
    "    return mean, std\n",
    "\n",
    "def preprocess_mnist(data, mean, std):\n",
    "    \n",
    "    normalized_data = (data - mean) / std\n",
    "    return normalized_data\n",
    "\n",
    "\n",
    "mean, std = compute_mean_std(train_data) \n",
    "train_mnist_per_dim = preprocess_mnist(train_data, mean, std)\n",
    "val_mnist_per_dim = preprocess_mnist(val_data, mean, std)\n",
    "test_mnist_per_dim = preprocess_mnist(test_data, mean, std)\n",
    "\n",
    "\n",
    "print(\"Training data shape:\", train_mnist_per_dim.shape) \n",
    "print(\"Validation data shape:\", val_mnist_per_dim.shape) \n",
    "print(\"Test data shape:\", test_mnist_per_dim.shape)      \n"
   ]
  },
  {
   "cell_type": "code",
   "execution_count": 19,
   "metadata": {},
   "outputs": [
    {
     "name": "stdout",
     "output_type": "stream",
     "text": [
      "Normalized training mean : [ 0.00000000e+00  0.00000000e+00  0.00000000e+00  0.00000000e+00\n",
      "  0.00000000e+00  0.00000000e+00  0.00000000e+00  0.00000000e+00\n",
      "  0.00000000e+00  0.00000000e+00  0.00000000e+00  0.00000000e+00\n",
      "  2.85013442e-07  4.07268089e-07 -7.19468687e-07 -7.19468801e-07\n",
      "  0.00000000e+00  0.00000000e+00  0.00000000e+00  0.00000000e+00\n",
      "  0.00000000e+00  0.00000000e+00  0.00000000e+00  0.00000000e+00\n",
      "  0.00000000e+00  0.00000000e+00  0.00000000e+00  0.00000000e+00\n",
      "  0.00000000e+00  0.00000000e+00  0.00000000e+00  0.00000000e+00\n",
      " -7.34933792e-07  1.01950285e-07  7.47477543e-07 -3.23260991e-07\n",
      " -8.20627690e-07  3.83085393e-07  1.90111535e-07 -6.82606242e-07\n",
      " -1.18714343e-06 -2.09542193e-07  1.02454464e-06 -6.18442115e-08\n",
      "  4.30400377e-07  1.41061071e-06  1.02903492e-07  3.84873204e-07\n",
      " -6.57643170e-07 -1.78996038e-06 -1.94609311e-06  9.93532808e-07\n",
      "  0.00000000e+00  0.00000000e+00  0.00000000e+00  0.00000000e+00\n",
      "  0.00000000e+00  0.00000000e+00 -7.36987431e-07  2.48862531e-08\n",
      " -6.10377413e-07  9.24289111e-07  1.28640664e-07 -6.36784492e-08\n",
      " -2.01768489e-06 -1.31030674e-06 -2.16405465e-06  4.01601454e-07\n",
      " -4.01728130e-07  2.36186179e-06 -4.66472869e-07 -1.05983446e-07\n",
      "  6.76855450e-07  1.55456576e-06 -1.09273145e-07 -9.42136538e-08\n",
      "  1.34046695e-06 -4.60133094e-07 -1.06817720e-06  5.48703980e-08\n",
      " -2.21546225e-06  1.15267824e-06  0.00000000e+00  0.00000000e+00\n",
      "  0.00000000e+00  0.00000000e+00  5.70828604e-07 -2.07556809e-06\n",
      "  3.47284896e-07 -6.21087750e-08 -1.09171015e-06  6.63991045e-07\n",
      "  6.73444660e-08 -1.23206814e-06 -9.59099680e-07  7.49118612e-07\n",
      "  1.11135520e-07  3.69728156e-07  2.78038641e-07 -3.03120487e-07]\n",
      "Normalized training std : [0.         0.         0.         0.         0.         0.\n",
      " 0.         0.         0.         0.         0.         0.\n",
      " 0.99999994 1.         1.         1.         0.         0.\n",
      " 0.         0.         0.         0.         0.         0.\n",
      " 0.         0.         0.         0.         0.         0.\n",
      " 0.         0.         0.99999994 0.99999994 1.         1.\n",
      " 0.9999994  0.99997675 0.9999503  1.0000014  0.9998729  1.0000166\n",
      " 1.0000895  1.0001156  0.99999857 0.99989086 0.99994045 1.0000015\n",
      " 0.99999994 1.         1.         1.         0.         0.\n",
      " 0.         0.         0.         0.         0.99999994 0.99999994\n",
      " 1.         1.         1.         0.9999344  0.99987626 0.9998809\n",
      " 0.9995399  1.0001972  1.0001975  1.0005988  0.9999801  1.0000044\n",
      " 1.0006603  0.9999943  1.000092   1.0001297  1.0006157  1.0001756\n",
      " 0.9998024  1.0000229  0.9999985  1.         0.         0.\n",
      " 0.         0.         1.         1.0000006  1.0000004  1.0000526\n",
      " 1.0000557  1.0001371  1.00041    0.9996923  0.99974084 0.9997509\n",
      " 0.99985063 0.99954826 1.0001596  0.99958533]\n"
     ]
    }
   ],
   "source": [
    "print(\"Normalized training mean :\", train_mnist_per_dim.mean(axis=0)[:100])\n",
    "print(\"Normalized training std :\", train_mnist_per_dim.std(axis=0)[:100])"
   ]
  },
  {
   "cell_type": "markdown",
   "metadata": {},
   "source": [
    "Compute pairwise similarities"
   ]
  },
  {
   "cell_type": "markdown",
   "metadata": {},
   "source": [
    "Euclidian distance"
   ]
  },
  {
   "cell_type": "code",
   "execution_count": 9,
   "metadata": {},
   "outputs": [
    {
     "name": "stderr",
     "output_type": "stream",
     "text": [
      "100%|██████████| 560/560 [04:14<00:00,  2.20it/s]\n",
      "100%|██████████| 560/560 [04:15<00:00,  2.19it/s]"
     ]
    },
    {
     "name": "stdout",
     "output_type": "stream",
     "text": [
      "Train-Validation Distance Matrix Shape: (56000, 7000)\n",
      "Train-Test Distance Matrix Shape: (56000, 7000)\n"
     ]
    },
    {
     "name": "stderr",
     "output_type": "stream",
     "text": [
      "\n"
     ]
    }
   ],
   "source": [
    "from tqdm import tqdm\n",
    "\n",
    "def euc_distance(x, y):\n",
    "    return np.sqrt(np.sum((x[:, np.newaxis, :] - y[np.newaxis, :, :])**2, axis=-1))\n",
    "\n",
    "# use broadcasting to calcualte the euclidean distance\n",
    "\n",
    "def batch_euclidean_dist(train_data, other_data, batch_size=100):\n",
    "    n_train = train_data.shape[0]\n",
    "    n_other = other_data.shape[0]\n",
    "    \n",
    "    distance_matrix = np.zeros((n_train, n_other)) \n",
    "\n",
    "    for i in tqdm(range(0, n_train, batch_size)):\n",
    "        for j in range(0, n_other, batch_size):\n",
    "            batch_train = train_data[i:i + batch_size]\n",
    "            batch_other = other_data[j:j + batch_size]\n",
    "            \n",
    "            distances = euc_distance(batch_train, batch_other)\n",
    "            distance_matrix[i:i + batch_size, j:j + batch_size] = distances\n",
    "    \n",
    "    return distance_matrix\n",
    "\n",
    "\n",
    "train_val_dis = batch_euclidean_dist(train_mnist_per_dim, val_mnist_per_dim, batch_size=100)\n",
    "train_test_dis = batch_euclidean_dist(train_mnist_per_dim, test_mnist_per_dim, batch_size=100)\n",
    "\n",
    "print(\"Train-Validation Distance Matrix Shape:\", train_val_dis.shape)\n",
    "print(\"Train-Test Distance Matrix Shape:\", train_test_dis.shape)"
   ]
  },
  {
   "cell_type": "markdown",
   "metadata": {},
   "source": [
    "Cosine similarity"
   ]
  },
  {
   "cell_type": "code",
   "execution_count": 20,
   "metadata": {},
   "outputs": [
    {
     "name": "stderr",
     "output_type": "stream",
     "text": [
      "Processing Train Batches: 100%|██████████| 560/560 [19:45<00:00,  2.12s/it]\n",
      "Processing Train Batches: 100%|██████████| 560/560 [23:39<00:00,  2.54s/it]"
     ]
    },
    {
     "name": "stdout",
     "output_type": "stream",
     "text": [
      "Train-Validation Similarity Matrix Shape: (56000, 7000)\n",
      "Train-Test Similarity Matrix Shape: (56000, 7000)\n"
     ]
    },
    {
     "name": "stderr",
     "output_type": "stream",
     "text": [
      "\n"
     ]
    }
   ],
   "source": [
    "from tqdm import tqdm\n",
    "import numpy as np\n",
    "\n",
    "def cosine_similarity(x, y):\n",
    "    \n",
    "    #calculate norm\n",
    "    norm_x = np.linalg.norm(x, axis=-1, keepdims=True) \n",
    "    norm_y = np.linalg.norm(y, axis=-1, keepdims=True) \n",
    "\n",
    "    #dot product\n",
    "    dot_product = np.dot(x, y.T)  \n",
    "\n",
    "    cosine_sim = dot_product / (norm_x * norm_y.T + 1e-8)  \n",
    "    return cosine_sim\n",
    "\n",
    "def batch_cosine_similarity(train_data, other_data, batch_size=100):\n",
    "\n",
    "    n_train = train_data.shape[0]\n",
    "    n_other = other_data.shape[0]\n",
    "    \n",
    "    sim_matrix = np.zeros((n_train, n_other))  \n",
    "\n",
    "    for i in tqdm(range(0, n_train, batch_size), desc=\"Processing Train Batches\"):\n",
    "        for j in range(0, n_other, batch_size):\n",
    "            batch_train = train_data[i:i + batch_size]\n",
    "            batch_other = other_data[j:j + batch_size]\n",
    "            \n",
    "            similarities = cosine_similarity(batch_train, batch_other)\n",
    "            sim_matrix[i:i + batch_size, j:j + batch_size] = similarities\n",
    "    \n",
    "    return sim_matrix\n",
    "\n",
    "\n",
    "train_val_similarities = batch_cosine_similarity(train_mnist_per_dim, val_mnist_per_dim, batch_size=100)\n",
    "train_test_similarities = batch_cosine_similarity(train_mnist_per_dim, test_mnist_per_dim, batch_size=100)\n",
    "\n",
    "print(\"Train-Validation Similarity Matrix Shape:\", train_val_similarities.shape)\n",
    "print(\"Train-Test Similarity Matrix Shape:\", train_test_similarities.shape)"
   ]
  },
  {
   "cell_type": "code",
   "execution_count": 27,
   "metadata": {},
   "outputs": [
    {
     "name": "stdout",
     "output_type": "stream",
     "text": [
      "[-0.07934432  0.13941577  0.11721499 -0.04407447 -0.0729043  -0.09397285\n",
      "  0.10100984 -0.09694926 -0.10693745 -0.13937376]\n",
      "[ 0.32427254  0.02712312  0.06362518  0.02077145 -0.00523477 -0.0007168\n",
      "  0.61245728 -0.16418684 -0.16170903 -0.01507664]\n"
     ]
    }
   ],
   "source": [
    "print(train_val_similarities[1,:10])\n",
    "print(train_test_similarities[1,:10])"
   ]
  },
  {
   "cell_type": "code",
   "execution_count": 10,
   "metadata": {},
   "outputs": [
    {
     "name": "stderr",
     "output_type": "stream",
     "text": [
      "100%|██████████| 7000/7000 [00:42<00:00, 162.90it/s]\n"
     ]
    },
    {
     "name": "stdout",
     "output_type": "stream",
     "text": [
      "k=1, Validation Accuracy=0.9516\n"
     ]
    },
    {
     "name": "stderr",
     "output_type": "stream",
     "text": [
      "100%|██████████| 7000/7000 [00:33<00:00, 208.55it/s]\n"
     ]
    },
    {
     "name": "stdout",
     "output_type": "stream",
     "text": [
      "k=3, Validation Accuracy=0.9513\n"
     ]
    },
    {
     "name": "stderr",
     "output_type": "stream",
     "text": [
      "100%|██████████| 7000/7000 [00:32<00:00, 213.35it/s]\n"
     ]
    },
    {
     "name": "stdout",
     "output_type": "stream",
     "text": [
      "k=5, Validation Accuracy=0.9517\n"
     ]
    },
    {
     "name": "stderr",
     "output_type": "stream",
     "text": [
      "100%|██████████| 7000/7000 [00:34<00:00, 201.35it/s]\n"
     ]
    },
    {
     "name": "stdout",
     "output_type": "stream",
     "text": [
      "k=7, Validation Accuracy=0.9511\n"
     ]
    },
    {
     "name": "stderr",
     "output_type": "stream",
     "text": [
      "100%|██████████| 7000/7000 [00:33<00:00, 211.48it/s]\n"
     ]
    },
    {
     "name": "stdout",
     "output_type": "stream",
     "text": [
      "k=9, Validation Accuracy=0.9486\n",
      "Best k: 5, Best Validation Accuracy: 0.9517\n"
     ]
    },
    {
     "name": "stderr",
     "output_type": "stream",
     "text": [
      "100%|██████████| 7000/7000 [00:44<00:00, 156.59it/s]"
     ]
    },
    {
     "name": "stdout",
     "output_type": "stream",
     "text": [
      "Test Accuracy with k=5: 0.9449\n"
     ]
    },
    {
     "name": "stderr",
     "output_type": "stream",
     "text": [
      "\n"
     ]
    }
   ],
   "source": [
    "def knn_predict(train_labels, distance_matrix, k):\n",
    "    n_queries = distance_matrix.shape[1]  \n",
    "    predictions = []\n",
    "\n",
    "    for i in tqdm(range(n_queries)):\n",
    "        \n",
    "        #get indices of k neighbors\n",
    "        k_nearest_indices = np.argsort(distance_matrix[:, i])[:k]\n",
    "        k_nearest_labels = train_labels[k_nearest_indices]\n",
    "        \n",
    "        #majority voting\n",
    "        unique_labels, counts = np.unique(k_nearest_labels, return_counts=True)\n",
    "        predicted_label = unique_labels[np.argmax(counts)]\n",
    "        \n",
    "        predictions.append(predicted_label)\n",
    "    \n",
    "    return np.array(predictions)\n",
    "\n",
    "def find_best_k(train_labels, val_labels, train_val_distances, k_values):\n",
    "    best_k = None\n",
    "    best_accuracy = 0\n",
    "\n",
    "    for k in k_values:\n",
    "        val_predictions = knn_predict(train_labels, train_val_distances, k)\n",
    "        \n",
    "        accuracy = np.mean(val_predictions == val_labels)\n",
    "        print(f\"k={k}, Validation Accuracy={accuracy:.4f}\")\n",
    "        \n",
    "        if accuracy > best_accuracy:\n",
    "            best_accuracy = accuracy\n",
    "            best_k = k\n",
    "    \n",
    "    return best_k, best_accuracy\n",
    "\n",
    "def compute_test_accuracy(train_labels, test_labels, train_test_distances, best_k):\n",
    "    test_predictions = knn_predict(train_labels, train_test_distances, best_k)\n",
    "    accuracy = np.mean(test_predictions == test_labels)\n",
    "    return accuracy\n",
    "\n",
    "k_values = [1, 3, 5, 7, 9]  \n",
    "best_k, best_val_accuracy = find_best_k(train_labels, val_labels, train_val_dis, k_values)\n",
    "print(f\"Best k: {best_k}, Best Validation Accuracy: {best_val_accuracy:.4f}\")\n",
    "\n",
    "test_accuracy = compute_test_accuracy(train_labels, test_labels, train_test_dis, best_k)\n",
    "print(f\"Test Accuracy with k={best_k}: {test_accuracy:.4f}\")"
   ]
  },
  {
   "cell_type": "code",
   "execution_count": 13,
   "metadata": {},
   "outputs": [
    {
     "name": "stderr",
     "output_type": "stream",
     "text": [
      "100%|██████████| 7000/7000 [00:33<00:00, 208.61it/s]"
     ]
    },
    {
     "name": "stdout",
     "output_type": "stream",
     "text": [
      "Number of misclassified images: 10\n"
     ]
    },
    {
     "name": "stderr",
     "output_type": "stream",
     "text": [
      "\n"
     ]
    },
    {
     "data": {
      "image/png": "[encoded data removed]",
      "text/plain": [
       "<Figure size 200x200 with 1 Axes>"
      ]
     },
     "metadata": {},
     "output_type": "display_data"
    },
    {
     "data": {
      "image/png": "[encoded data removed]",
      "text/plain": [
       "<Figure size 200x200 with 1 Axes>"
      ]
     },
     "metadata": {},
     "output_type": "display_data"
    },
    {
     "data": {
      "image/png": "[encoded data removed]",
      "text/plain": [
       "<Figure size 200x200 with 1 Axes>"
      ]
     },
     "metadata": {},
     "output_type": "display_data"
    },
    {
     "data": {
      "image/png": "[encoded data removed]",
      "text/plain": [
       "<Figure size 200x200 with 1 Axes>"
      ]
     },
     "metadata": {},
     "output_type": "display_data"
    },
    {
     "data": {
      "image/png": "[encoded data removed]",
      "text/plain": [
       "<Figure size 200x200 with 1 Axes>"
      ]
     },
     "metadata": {},
     "output_type": "display_data"
    },
    {
     "data": {
      "image/png": "[encoded data removed]",
      "text/plain": [
       "<Figure size 200x200 with 1 Axes>"
      ]
     },
     "metadata": {},
     "output_type": "display_data"
    },
    {
     "data": {
      "image/png": "[encoded data removed]",
      "text/plain": [
       "<Figure size 200x200 with 1 Axes>"
      ]
     },
     "metadata": {},
     "output_type": "display_data"
    },
    {
     "data": {
      "image/png": "[encoded data removed]",
      "text/plain": [
       "<Figure size 200x200 with 1 Axes>"
      ]
     },
     "metadata": {},
     "output_type": "display_data"
    },
    {
     "data": {
      "image/png": "[encoded data removed]",
      "text/plain": [
       "<Figure size 200x200 with 1 Axes>"
      ]
     },
     "metadata": {},
     "output_type": "display_data"
    },
    {
     "data": {
      "image/png": "[encoded data removed]",
      "text/plain": [
       "<Figure size 200x200 with 1 Axes>"
      ]
     },
     "metadata": {},
     "output_type": "display_data"
    }
   ],
   "source": [
    "def show_misclassified_images(train_labels, test_labels, train_test_distances, best_k, test_data):\n",
    "    \n",
    "    test_images = np.array(test_data[\"image\"])\n",
    "    test_labels = np.array(test_data[\"label\"])\n",
    "    \n",
    "    test_predictions = knn_predict(train_labels, train_test_distances, best_k)\n",
    "    \n",
    "    # where mis-predicted indices\n",
    "    misclassified_indices = np.where(test_predictions != test_labels)[0]\n",
    "    \n",
    "    misclassified_indices = misclassified_indices[:10]\n",
    "    \n",
    "    print(f\"Number of misclassified images: {len(misclassified_indices)}\")\n",
    "    \n",
    "    for i, idx in enumerate(misclassified_indices):\n",
    "        plt.figure(figsize=(2, 2))\n",
    "        plt.imshow(test_images[int(idx)], cmap='gray')  \n",
    "        plt.title(f\"True: {test_labels[int(idx)]}, Pred: {test_predictions[int(idx)]}\")\n",
    "        plt.axis('off')\n",
    "        plt.show()\n",
    "\n",
    "show_misclassified_images(train_labels, test_labels, train_test_dis, best_k, mnist_split['test'])"
   ]
  }
 ],
 "metadata": {
  "kernelspec": {
   "display_name": "Python 3",
   "language": "python",
   "name": "python3"
  },
  "language_info": {
   "codemirror_mode": {
    "name": "ipython",
    "version": 3
   },
   "file_extension": ".py",
   "mimetype": "text/x-python",
   "name": "python",
   "nbconvert_exporter": "python",
   "pygments_lexer": "ipython3",
   "version": "3.11.6"
  }
 },
 "nbformat": 4,
 "nbformat_minor": 2
}
