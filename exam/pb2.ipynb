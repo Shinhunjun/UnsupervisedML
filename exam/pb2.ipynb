{
 "cells": [
  {
   "cell_type": "markdown",
   "id": "e43a3258",
   "metadata": {},
   "source": [
    "Part A (25 points). Given that exponential distribution assumption on bidding intervals, figure out the proper distribution for the #bids/day, parametrized by λ. You can use online resources to do so."
   ]
  },
  {
   "cell_type": "markdown",
   "id": "41491b57",
   "metadata": {},
   "source": [
    "Answer: The distribution for the number of bids per day is a Poisson distribution with a rate parameter of lambda.\n",
    "\n",
    "\n",
    "Explanation: \n",
    "Since it is Exponential inter-arrival ⇒ it follows Poisson process\n",
    "\n",
    "Explanation of Parameters\n",
    "\n",
    "num_of_components: number of components in the mixture model(Cars, Jewerly, Paintings, Houses)\n",
    "\n",
    "max_iterations: maximum number of iterations for the EM algorithm\n",
    "\n",
    "tolerance: convergence criterion for log-likelihood-> if lower than tolerance it stops\n",
    "\n",
    "lambdas: initial values for the Poisson parameters (means) of each component\n",
    "\n",
    "pi: initial values for the mixing proportions of each component"
   ]
  },
  {
   "cell_type": "markdown",
   "id": "e33b7519",
   "metadata": {},
   "source": [
    "Part B (75 points) The file contains counts of auction bids for 10000 days, without specifying which class was auctioned per day. Estimate the rate_bidding parameter for each class (4 λ values) and also estimate how many days each class was auctioned (4 counts out of 10000).\n",
    "Hint: use EM on a mixture of 4 distributions found in part A. You can use libraries for distribution computation (pdf), but the EM steps have to be your own implementation. Here is a possible result\n",
    "Estimated λ-s: [ 6.13 15.22 1.97 22.34]\n",
    "Estimated #days : [3087 1272 1953 3687 ]"
   ]
  },
  {
   "cell_type": "code",
   "execution_count": null,
   "id": "bff54cd7",
   "metadata": {},
   "outputs": [
    {
     "name": "stdout",
     "output_type": "stream",
     "text": [
      "Estimated lambdas: [ 1.9508694   6.04131525 14.52181915 22.19539789]\n",
      "Estimated pi: [0.19099616 0.30826845 0.11603148 0.38470391]\n",
      "Estimated number of the days: [1909 3082 1160 3847]\n",
      "Final log-likelihood: -33847.177438008424\n"
     ]
    }
   ],
   "source": [
    "import numpy as np\n",
    "from scipy.stats import poisson\n",
    "\n",
    "data = np.loadtxt('/Users/hunjunsin/Desktop/Jun/Unsupervised/final/pb2data_D.txt')\n",
    "\n",
    "N = len(data)\n",
    "num_of_components = 4\n",
    "max_iterations = 300\n",
    "tolerance = 1e-6\n",
    "\n",
    "\n",
    "lambdas = np.random.uniform(0.5 * data.mean(), 1.5 * data.mean(), num_of_components)\n",
    "pi = np.ones(num_of_components) / num_of_components\n",
    "log_likelihood = None\n",
    "\n",
    "for iteration in range(max_iterations):\n",
    "    \n",
    "    # E-step: calculate responsibilities\n",
    "    pdfs = np.array([poisson.pmf(data, mu=lam) for lam in lambdas]).T\n",
    "    weighted = pdfs * pi         \n",
    "    denom   = weighted.sum(axis=1, keepdims=True)\n",
    "    responsibilities = weighted / denom   \n",
    "\n",
    "    # M-step: update π, λ\n",
    "    Nk = responsibilities.sum(axis=0)          \n",
    "    pi = Nk / N\n",
    "    lambdas = (responsibilities.T @ data) / Nk\n",
    "\n",
    "    # Log-likelihood calculation\n",
    "    ll = np.sum(np.log(denom))\n",
    "    if log_likelihood is not None and abs(ll - log_likelihood) < tolerance:\n",
    "        break\n",
    "    log_likelihood = ll\n",
    "\n",
    "days_estimate = pi * N\n",
    "\n",
    "\n",
    "print(\"Estimated lambdas:\",lambdas)\n",
    "print(\"Estimated pi:\", pi)\n",
    "print(\"Estimated number of the days:\", days_estimate.astype(int))\n",
    "print(\"Final log-likelihood:\", log_likelihood)\n"
   ]
  },
  {
   "cell_type": "code",
   "execution_count": null,
   "id": "9dd00264",
   "metadata": {},
   "outputs": [],
   "source": []
  }
 ],
 "metadata": {
  "kernelspec": {
   "display_name": "Python 3",
   "language": "python",
   "name": "python3"
  },
  "language_info": {
   "codemirror_mode": {
    "name": "ipython",
    "version": 3
   },
   "file_extension": ".py",
   "mimetype": "text/x-python",
   "name": "python",
   "nbconvert_exporter": "python",
   "pygments_lexer": "ipython3",
   "version": "3.11.6"
  }
 },
 "nbformat": 4,
 "nbformat_minor": 5
}
