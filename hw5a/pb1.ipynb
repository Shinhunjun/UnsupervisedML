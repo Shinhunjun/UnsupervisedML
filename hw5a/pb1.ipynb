{
 "cells": [
  {
   "cell_type": "code",
   "execution_count": 1,
   "metadata": {},
   "outputs": [
    {
     "name": "stdout",
     "output_type": "stream",
     "text": [
      "data number : 18846\n"
     ]
    }
   ],
   "source": [
    "import pandas as pd\n",
    "from sklearn.model_selection import train_test_split\n",
    "\n",
    "train_csv = \"/Users/hunjunsin/Desktop/Jun/Unsupervised/hw1/20news_train.csv\"\n",
    "test_csv = \"/Users/hunjunsin/Desktop/Jun/Unsupervised/hw1/20news_test.csv\"\n",
    "\n",
    "train_data = pd.read_csv(train_csv)\n",
    "test_data = pd.read_csv(test_csv)\n",
    "\n",
    "combined_data = pd.concat([train_data, test_data], ignore_index=True)\n",
    "\n",
    "combined_data = combined_data.sample(frac=1, random_state=42).reset_index(drop=True)\n",
    "\n",
    "print(f\"data number : {len(combined_data)}\")\n"
   ]
  },
  {
   "cell_type": "code",
   "execution_count": 22,
   "metadata": {},
   "outputs": [],
   "source": [
    "sample = combined_data.sample(n=9000, random_state=42)"
   ]
  },
  {
   "cell_type": "code",
   "execution_count": 23,
   "metadata": {},
   "outputs": [
    {
     "data": {
      "text/plain": [
       "9000"
      ]
     },
     "execution_count": 23,
     "metadata": {},
     "output_type": "execute_result"
    }
   ],
   "source": [
    "len(sample)"
   ]
  },
  {
   "cell_type": "code",
   "execution_count": 24,
   "metadata": {},
   "outputs": [],
   "source": [
    "from sklearn.feature_extraction.text import TfidfVectorizer\n",
    "\n",
    "data_20 = sample.dropna(subset = ['body']).reset_index(drop = True)\n",
    "train_documents = data_20['body'].reset_index(drop=True)\n",
    "train_labels = data_20['label'].reset_index(drop=True)"
   ]
  },
  {
   "cell_type": "code",
   "execution_count": 25,
   "metadata": {},
   "outputs": [
    {
     "data": {
      "text/plain": [
       "0       starr@kuhub.cc.ukans.edu writes:\\n: I need hel...\n",
       "1       In article <1993Apr15.003015.1@vmsb.is.csupomo...\n",
       "2       In article <1993Apr25.151108.1@aurora.alaska.e...\n",
       "3       In article <93059@hydra.gatech.EDU> gt4356c@pr...\n",
       "4       Kevin Kimmell - Computer Science/German Underg...\n",
       "                              ...                        \n",
       "8984    In article <C5t14M.Ku2@acsu.buffalo.edu> v111q...\n",
       "8985    NNTP-Posting-Host: po2.andrew.cmu.edu\\nIn-Repl...\n",
       "8986    In article <sandvik-160493205355@sandvik-kent....\n",
       "8987    In article <Stafford-210493125617@stafford.win...\n",
       "8988    In <16BB91429.C445585@mizzou1.missouri.edu> C4...\n",
       "Name: body, Length: 8989, dtype: object"
      ]
     },
     "execution_count": 25,
     "metadata": {},
     "output_type": "execute_result"
    }
   ],
   "source": [
    "train_documents"
   ]
  },
  {
   "cell_type": "code",
   "execution_count": 27,
   "metadata": {},
   "outputs": [
    {
     "name": "stderr",
     "output_type": "stream",
     "text": [
      "[nltk_data] Downloading package stopwords to\n",
      "[nltk_data]     /Users/hunjunsin/nltk_data...\n",
      "[nltk_data]   Package stopwords is already up-to-date!\n",
      "/Users/hunjunsin/.pyenv/versions/3.11.6/lib/python3.11/site-packages/spacy/util.py:910: UserWarning: [W095] Model 'en_core_web_sm' (3.8.0) was trained with spaCy v3.8.0 and may not be 100% compatible with the current version (3.7.5). If you see errors or degraded performance, download a newer compatible model or retrain your custom model with the current spaCy version. For more details and available updates, run: python -m spacy validate\n",
      "  warnings.warn(warn_msg)\n"
     ]
    }
   ],
   "source": [
    "import pandas as pd\n",
    "import gensim\n",
    "import gensim.corpora as corpora\n",
    "from gensim.models import CoherenceModel\n",
    "import spacy\n",
    "import nltk\n",
    "from nltk.corpus import stopwords\n",
    "import re\n",
    "import matplotlib.pyplot as plt\n",
    "\n",
    "nltk.download('stopwords')\n",
    "stop_words = stopwords.words('english')\n",
    "\n",
    "def reg_data(text):\n",
    "    text = str(text)  # Convert to string if not already\n",
    "    text = re.sub('\\\\s+', ' ', text)  \n",
    "    text = re.sub('\\\\S*@\\\\S*\\\\s?', '', text)  \n",
    "    text = re.sub('\\'', '', text)  \n",
    "    text = re.sub('[^a-zA-Z]', ' ', text)  \n",
    "    text = text.lower()  \n",
    "    return text\n",
    "\n",
    "# Tokenize and remove stopwords\n",
    "def tok_data(data):\n",
    "    tokens = gensim.utils.simple_preprocess(data, deacc=True)\n",
    "    tokens = [token for token in tokens if token not in stop_words]\n",
    "    return tokens\n",
    "\n",
    "# Lemmatization using spaCy\n",
    "nlp = spacy.load('en_core_web_sm', disable=['parser', 'ner'])\n",
    "def lem_data(tokens):\n",
    "    doc = nlp(\" \".join(tokens))\n",
    "    return [token.lemma_ for token in doc]\n",
    "\n",
    "def preprocess_document(text):\n",
    "    cleaned_text = reg_data(text)\n",
    "    tokens = tok_data(cleaned_text)\n",
    "    lemmatized_tokens = lem_data(tokens)\n",
    "    return lemmatized_tokens\n",
    "    \n",
    "final_document = train_documents.apply(preprocess_document)\n"
   ]
  },
  {
   "cell_type": "code",
   "execution_count": 28,
   "metadata": {},
   "outputs": [
    {
     "data": {
      "text/plain": [
       "0       [write, need, help, zx, put, supertrapp, slip,...\n",
       "1       [article, write, today, cub, activate, mike, h...\n",
       "2       [article, write, like, option, new, space, sta...\n",
       "3       [article, james, dean, barwick, write, permene...\n",
       "4       [kevin, kimmell, computer, science, german, un...\n",
       "                              ...                        \n",
       "8984    [article, vasilion, write, well, still, land, ...\n",
       "8985    [nntp, post, host, po, andrew, cmu, edu, reply...\n",
       "8986    [article, kent, sandvik, write, stephen, write...\n",
       "8987    [article, john, stafford, write, article, bill...\n",
       "8988    [john, kelsey, write, I, ve, recently, read, p...\n",
       "Name: body, Length: 8989, dtype: object"
      ]
     },
     "execution_count": 28,
     "metadata": {},
     "output_type": "execute_result"
    }
   ],
   "source": [
    "final_document"
   ]
  },
  {
   "cell_type": "code",
   "execution_count": 32,
   "metadata": {},
   "outputs": [],
   "source": [
    "# Create dictionary and corpus\n",
    "id_word = corpora.Dictionary(final_document)\n",
    "corpus = [id_word.doc2bow(doc) for doc in final_document]"
   ]
  },
  {
   "cell_type": "markdown",
   "metadata": {},
   "source": [
    "K = 10"
   ]
  },
  {
   "cell_type": "code",
   "execution_count": 36,
   "metadata": {},
   "outputs": [],
   "source": [
    "# Build LDA model\n",
    "lda_model = gensim.models.ldamodel.LdaModel(corpus=corpus,\n",
    "                                            id2word=id_word,\n",
    "                                            num_topics=10, \n",
    "                                            random_state=100,\n",
    "                                            update_every=1,\n",
    "                                            chunksize=100,\n",
    "                                            passes=10,\n",
    "                                            alpha='auto',\n",
    "                                            per_word_topics=True)"
   ]
  },
  {
   "cell_type": "code",
   "execution_count": 40,
   "metadata": {},
   "outputs": [
    {
     "name": "stdout",
     "output_type": "stream",
     "text": [
      "(0, '0.010*\"god\" + 0.009*\"people\" + 0.007*\"say\" + 0.006*\"believe\" + 0.005*\"one\" + 0.005*\"man\" + 0.004*\"we\" + 0.004*\"government\" + 0.004*\"state\" + 0.004*\"law\" + 0.004*\"right\" + 0.004*\"may\" + 0.004*\"christian\" + 0.004*\"word\" + 0.004*\"mean\" + 0.004*\"issue\" + 0.003*\"fact\" + 0.003*\"evidence\" + 0.003*\"world\" + 0.003*\"child\"')\n",
      "(1, '0.029*\"game\" + 0.017*\"play\" + 0.016*\"team\" + 0.016*\"gun\" + 0.011*\"win\" + 0.010*\"weapon\" + 0.010*\"period\" + 0.009*\"buf\" + 0.008*\"st\" + 0.007*\"hockey\" + 0.007*\"goal\" + 0.006*\"pp\" + 0.006*\"la\" + 0.006*\"san\" + 0.006*\"pt\" + 0.006*\"packet\" + 0.006*\"firearm\" + 0.006*\"scorer\" + 0.005*\"season\" + 0.005*\"score\"')\n",
      "(2, '0.466*\"ax\" + 0.041*\"max\" + 0.008*\"pl\" + 0.006*\"tl\" + 0.005*\"hz\" + 0.005*\"ww\" + 0.004*\"di\" + 0.004*\"wc\" + 0.004*\"qs\" + 0.004*\"pu\" + 0.004*\"tm\" + 0.004*\"mf\" + 0.004*\"ah\" + 0.003*\"mw\" + 0.003*\"mg\" + 0.003*\"ei\" + 0.003*\"tiff\" + 0.003*\"wt\" + 0.003*\"fi\" + 0.003*\"vf\"')\n",
      "(3, '0.041*\"jesus\" + 0.020*\"col\" + 0.012*\"christ\" + 0.010*\"temple\" + 0.010*\"telnet\" + 0.008*\"testament\" + 0.008*\"sabbath\" + 0.007*\"pretend\" + 0.007*\"mormon\" + 0.007*\"resurrection\" + 0.006*\"commandment\" + 0.006*\"cub\" + 0.005*\"disciple\" + 0.005*\"weiss\" + 0.005*\"romans\" + 0.004*\"incarnate\" + 0.004*\"fallacy\" + 0.004*\"fulfil\" + 0.004*\"formerly\" + 0.003*\"baptism\"')\n",
      "(4, '0.028*\"not\" + 0.018*\"do\" + 0.017*\"write\" + 0.015*\"would\" + 0.013*\"get\" + 0.013*\"one\" + 0.011*\"article\" + 0.011*\"know\" + 0.011*\"I\" + 0.010*\"like\" + 0.009*\"go\" + 0.009*\"think\" + 0.009*\"well\" + 0.008*\"make\" + 0.007*\"time\" + 0.007*\"good\" + 0.007*\"use\" + 0.007*\"see\" + 0.007*\"m\" + 0.006*\"s\"')\n",
      "(5, '0.028*\"file\" + 0.019*\"program\" + 0.015*\"entry\" + 0.011*\"use\" + 0.009*\"information\" + 0.008*\"list\" + 0.008*\"include\" + 0.008*\"com\" + 0.008*\"ftp\" + 0.007*\"mail\" + 0.007*\"send\" + 0.007*\"line\" + 0.007*\"edu\" + 0.007*\"section\" + 0.007*\"code\" + 0.007*\"available\" + 0.006*\"email\" + 0.006*\"application\" + 0.006*\"window\" + 0.006*\"pub\"')\n",
      "(6, '0.024*\"use\" + 0.019*\"window\" + 0.015*\"card\" + 0.015*\"system\" + 0.013*\"computer\" + 0.013*\"driver\" + 0.012*\"disk\" + 0.011*\"image\" + 0.011*\"work\" + 0.011*\"color\" + 0.011*\"thank\" + 0.011*\"bit\" + 0.010*\"run\" + 0.009*\"output\" + 0.009*\"problem\" + 0.009*\"pc\" + 0.009*\"software\" + 0.008*\"memory\" + 0.008*\"video\" + 0.008*\"mode\"')\n",
      "(7, '0.008*\"player\" + 0.007*\"high\" + 0.007*\"year\" + 0.007*\"space\" + 0.006*\"power\" + 0.005*\"hit\" + 0.005*\"battery\" + 0.005*\"low\" + 0.005*\"he\" + 0.004*\"light\" + 0.004*\"wonder\" + 0.004*\"two\" + 0.004*\"th\" + 0.004*\"model\" + 0.004*\"design\" + 0.004*\"lead\" + 0.004*\"switch\" + 0.004*\"contest\" + 0.004*\"air\" + 0.004*\"center\"')\n",
      "(8, '0.046*\"drive\" + 0.029*\"car\" + 0.016*\"bike\" + 0.013*\"price\" + 0.011*\"dod\" + 0.011*\"sale\" + 0.011*\"scsi\" + 0.010*\"bus\" + 0.010*\"buy\" + 0.009*\"sell\" + 0.008*\"ide\" + 0.008*\"ram\" + 0.008*\"new\" + 0.008*\"engine\" + 0.007*\"ride\" + 0.007*\"int\" + 0.007*\"anti\" + 0.007*\"dx\" + 0.006*\"speed\" + 0.006*\"cable\"')\n",
      "(9, '0.035*\"key\" + 0.015*\"slip\" + 0.013*\"system\" + 0.013*\"use\" + 0.012*\"government\" + 0.012*\"chip\" + 0.012*\"encryption\" + 0.011*\"security\" + 0.011*\"algorithm\" + 0.011*\"privacy\" + 0.010*\"phone\" + 0.009*\"clipper\" + 0.008*\"homosexual\" + 0.008*\"public\" + 0.008*\"des\" + 0.008*\"method\" + 0.008*\"sci\" + 0.008*\"communication\" + 0.007*\"eff\" + 0.007*\"message\"')\n"
     ]
    }
   ],
   "source": [
    "# Print the topics\n",
    "topics = lda_model.print_topics(num_words=20)\n",
    "for topic in topics:\n",
    "    print(topic)"
   ]
  },
  {
   "cell_type": "markdown",
   "metadata": {},
   "source": [
    "K = 20"
   ]
  },
  {
   "cell_type": "code",
   "execution_count": 47,
   "metadata": {},
   "outputs": [],
   "source": [
    "# Build LDA model\n",
    "lda_model_20 = gensim.models.ldamodel.LdaModel(corpus=corpus,\n",
    "                                            id2word=id_word,\n",
    "                                            num_topics=20, \n",
    "                                            random_state=100,\n",
    "                                            update_every=1,\n",
    "                                            chunksize=100,\n",
    "                                            passes=10,\n",
    "                                            alpha='auto',\n",
    "                                            per_word_topics=True)"
   ]
  },
  {
   "cell_type": "code",
   "execution_count": 49,
   "metadata": {},
   "outputs": [
    {
     "name": "stdout",
     "output_type": "stream",
     "text": [
      "(0, '0.014*\"people\" + 0.012*\"one\" + 0.011*\"say\" + 0.010*\"may\" + 0.008*\"mean\" + 0.008*\"make\" + 0.007*\"man\" + 0.007*\"many\" + 0.007*\"question\" + 0.007*\"word\" + 0.007*\"fact\" + 0.006*\"believe\" + 0.006*\"world\" + 0.006*\"must\" + 0.006*\"follow\" + 0.005*\"group\" + 0.005*\"issue\" + 0.005*\"would\" + 0.005*\"also\" + 0.005*\"claim\"')\n",
      "(1, '0.060*\"government\" + 0.042*\"gun\" + 0.041*\"law\" + 0.028*\"right\" + 0.026*\"weapon\" + 0.022*\"state\" + 0.016*\"protect\" + 0.016*\"freedom\" + 0.015*\"control\" + 0.015*\"clinton\" + 0.015*\"switch\" + 0.015*\"legal\" + 0.014*\"arm\" + 0.014*\"koresh\" + 0.013*\"evidence\" + 0.013*\"public\" + 0.012*\"federal\" + 0.012*\"carry\" + 0.011*\"batf\" + 0.011*\"burn\"')\n",
      "(2, '0.135*\"game\" + 0.078*\"play\" + 0.075*\"team\" + 0.059*\"player\" + 0.026*\"scorer\" + 0.025*\"score\" + 0.024*\"goal\" + 0.019*\"van\" + 0.017*\"playoff\" + 0.017*\"boston\" + 0.014*\"cup\" + 0.012*\"devil\" + 0.011*\"keith\" + 0.011*\"ranger\" + 0.011*\"montreal\" + 0.011*\"greg\" + 0.009*\"quebec\" + 0.008*\"selanne\" + 0.008*\"final\" + 0.008*\"winnipeg\"')\n",
      "(3, '0.000*\"gordie\" + 0.000*\"gryphons\" + 0.000*\"hameenlinna\" + 0.000*\"gull\" + 0.000*\"ferreira\" + 0.000*\"goodenow\" + 0.000*\"gonchar\" + 0.000*\"gemeinschaft\" + 0.000*\"gasser\" + 0.000*\"frolunda\" + 0.000*\"fribourg\" + 0.000*\"francais\" + 0.000*\"flint\" + 0.000*\"fledged\" + 0.000*\"flair\" + 0.000*\"finisher\" + 0.000*\"finals\" + 0.000*\"gordiouk\" + 0.000*\"habitant\" + 0.000*\"groundbreaking\"')\n",
      "(4, '0.031*\"new\" + 0.025*\"thank\" + 0.021*\"year\" + 0.018*\"university\" + 0.015*\"driver\" + 0.015*\"card\" + 0.015*\"win\" + 0.010*\"st\" + 0.010*\"second\" + 0.010*\"first\" + 0.009*\"last\" + 0.009*\"john\" + 0.009*\"two\" + 0.008*\"speed\" + 0.008*\"usa\" + 0.008*\"period\" + 0.007*\"sale\" + 0.007*\"high\" + 0.007*\"hockey\" + 0.007*\"offer\"')\n",
      "(5, '0.058*\"file\" + 0.048*\"window\" + 0.024*\"program\" + 0.021*\"use\" + 0.020*\"run\" + 0.018*\"color\" + 0.017*\"format\" + 0.017*\"machine\" + 0.017*\"application\" + 0.015*\"version\" + 0.014*\"software\" + 0.014*\"display\" + 0.013*\"user\" + 0.012*\"screen\" + 0.011*\"os\" + 0.011*\"problem\" + 0.011*\"sun\" + 0.010*\"pc\" + 0.010*\"server\" + 0.009*\"ms\"')\n",
      "(6, '0.069*\"gif\" + 0.053*\"cramer\" + 0.049*\"clayton\" + 0.032*\"shuttle\" + 0.029*\"survey\" + 0.026*\"japanese\" + 0.023*\"davis\" + 0.019*\"viewer\" + 0.006*\"executable\" + 0.006*\"partner\" + 0.006*\"belgium\" + 0.003*\"everytime\" + 0.000*\"jpeg\" + 0.000*\"pyramid\" + 0.000*\"optilink\" + 0.000*\"relation\" + 0.000*\"mutual\" + 0.000*\"promiscuous\" + 0.000*\"wainwright\" + 0.000*\"spread\"')\n",
      "(7, '0.039*\"not\" + 0.026*\"do\" + 0.025*\"write\" + 0.021*\"would\" + 0.019*\"get\" + 0.016*\"one\" + 0.016*\"article\" + 0.015*\"know\" + 0.015*\"I\" + 0.015*\"like\" + 0.013*\"go\" + 0.013*\"think\" + 0.012*\"well\" + 0.009*\"make\" + 0.009*\"good\" + 0.009*\"m\" + 0.009*\"see\" + 0.009*\"time\" + 0.009*\"could\" + 0.008*\"s\"')\n",
      "(8, '0.055*\"car\" + 0.034*\"price\" + 0.031*\"bike\" + 0.030*\"drive\" + 0.023*\"power\" + 0.021*\"dod\" + 0.020*\"pp\" + 0.017*\"mike\" + 0.017*\"pt\" + 0.016*\"air\" + 0.015*\"minute\" + 0.015*\"light\" + 0.015*\"sell\" + 0.015*\"blue\" + 0.014*\"engine\" + 0.014*\"doug\" + 0.014*\"ride\" + 0.013*\"mile\" + 0.013*\"d\" + 0.011*\"i\"')\n",
      "(9, '0.108*\"key\" + 0.057*\"chip\" + 0.036*\"encryption\" + 0.033*\"privacy\" + 0.031*\"algorithm\" + 0.030*\"electronic\" + 0.027*\"clipper\" + 0.026*\"security\" + 0.025*\"des\" + 0.023*\"phone\" + 0.020*\"nsa\" + 0.018*\"encrypt\" + 0.018*\"secure\" + 0.016*\"communication\" + 0.015*\"secret\" + 0.012*\"zero\" + 0.010*\"message\" + 0.010*\"scheme\" + 0.010*\"serial\" + 0.009*\"homosexuality\"')\n",
      "(10, '0.062*\"he\" + 0.045*\"theory\" + 0.043*\"doubt\" + 0.034*\"league\" + 0.033*\"baseball\" + 0.031*\"gay\" + 0.028*\"ah\" + 0.024*\"minor\" + 0.017*\"laser\" + 0.016*\"coach\" + 0.015*\"staff\" + 0.014*\"zone\" + 0.012*\"adapter\" + 0.012*\"assembly\" + 0.011*\"compiler\" + 0.011*\"raw\" + 0.010*\"ring\" + 0.010*\"worker\" + 0.010*\"playing\" + 0.009*\"antenna\"')\n",
      "(11, '0.147*\"god\" + 0.058*\"christian\" + 0.036*\"jesus\" + 0.036*\"bible\" + 0.031*\"evidence\" + 0.031*\"church\" + 0.026*\"believe\" + 0.025*\"faith\" + 0.021*\"sin\" + 0.019*\"christ\" + 0.018*\"we\" + 0.016*\"love\" + 0.015*\"paul\" + 0.013*\"die\" + 0.013*\"heaven\" + 0.013*\"existence\" + 0.013*\"christians\" + 0.013*\"male\" + 0.012*\"law\" + 0.011*\"prayer\"')\n",
      "(12, '0.032*\"jews\" + 0.029*\"policy\" + 0.027*\"president\" + 0.016*\"jewish\" + 0.014*\"land\" + 0.014*\"turkish\" + 0.013*\"launch\" + 0.013*\"german\" + 0.012*\"genocide\" + 0.012*\"nation\" + 0.012*\"hz\" + 0.012*\"billion\" + 0.012*\"british\" + 0.012*\"united\" + 0.011*\"million\" + 0.011*\"states\" + 0.010*\"nazi\" + 0.010*\"armenia\" + 0.010*\"soviet\" + 0.010*\"russian\"')\n",
      "(13, '0.043*\"use\" + 0.028*\"system\" + 0.019*\"entry\" + 0.017*\"computer\" + 0.016*\"line\" + 0.015*\"output\" + 0.015*\"program\" + 0.011*\"datum\" + 0.011*\"info\" + 0.011*\"build\" + 0.010*\"space\" + 0.010*\"internet\" + 0.009*\"bit\" + 0.009*\"design\" + 0.009*\"phone\" + 0.009*\"number\" + 0.009*\"test\" + 0.008*\"work\" + 0.008*\"box\" + 0.008*\"also\"')\n",
      "(14, '0.065*\"important\" + 0.040*\"water\" + 0.035*\"weight\" + 0.029*\"straight\" + 0.028*\"americans\" + 0.024*\"cold\" + 0.022*\"diet\" + 0.020*\"gm\" + 0.016*\"len\" + 0.015*\"remind\" + 0.014*\"cool\" + 0.014*\"temperature\" + 0.013*\"desire\" + 0.013*\"henry\" + 0.012*\"fuel\" + 0.011*\"danger\" + 0.011*\"ft\" + 0.011*\"metal\" + 0.011*\"nuclear\" + 0.010*\"crazy\"')\n",
      "(15, '0.075*\"fire\" + 0.054*\"fbi\" + 0.054*\"al\" + 0.041*\"tank\" + 0.039*\"gas\" + 0.033*\"tom\" + 0.025*\"instance\" + 0.021*\"hall\" + 0.018*\"em\" + 0.016*\"corp\" + 0.013*\"en\" + 0.013*\"flash\" + 0.013*\"tear\" + 0.012*\"tube\" + 0.010*\"uucp\" + 0.010*\"building\" + 0.010*\"bds\" + 0.010*\"tomorrow\" + 0.010*\"atf\" + 0.009*\"tv\"')\n",
      "(16, '0.161*\"image\" + 0.074*\"graphic\" + 0.060*\"hi\" + 0.040*\"int\" + 0.037*\"cal\" + 0.026*\"orbit\" + 0.023*\"radar\" + 0.014*\"fi\" + 0.012*\"manufacture\" + 0.010*\"mirror\" + 0.010*\"comet\" + 0.008*\"orbital\" + 0.008*\"ri\" + 0.007*\"drawing\" + 0.007*\"rick\" + 0.007*\"cub\" + 0.007*\"jupiter\" + 0.006*\"earth\" + 0.006*\"galileo\" + 0.006*\"marshall\"')\n",
      "(17, '0.048*\"israel\" + 0.042*\"apr\" + 0.041*\"israeli\" + 0.033*\"arab\" + 0.033*\"eff\" + 0.023*\"gmt\" + 0.023*\"sex\" + 0.022*\"frank\" + 0.021*\"average\" + 0.020*\"pitcher\" + 0.019*\"guideline\" + 0.018*\"walk\" + 0.017*\"poster\" + 0.016*\"gilmour\" + 0.015*\"employer\" + 0.013*\"bond\" + 0.011*\"rational\" + 0.010*\"afraid\" + 0.009*\"occupy\" + 0.009*\"partner\"')\n",
      "(18, '0.042*\"mail\" + 0.037*\"information\" + 0.030*\"send\" + 0.027*\"list\" + 0.026*\"email\" + 0.023*\"please\" + 0.022*\"address\" + 0.019*\"message\" + 0.018*\"network\" + 0.018*\"name\" + 0.017*\"copy\" + 0.016*\"post\" + 0.014*\"edu\" + 0.014*\"ftp\" + 0.014*\"available\" + 0.014*\"pub\" + 0.013*\"file\" + 0.012*\"book\" + 0.011*\"access\" + 0.011*\"via\"')\n",
      "(19, '0.396*\"ax\" + 0.035*\"max\" + 0.027*\"drive\" + 0.017*\"disk\" + 0.013*\"memory\" + 0.013*\"mb\" + 0.013*\"appreciate\" + 0.012*\"video\" + 0.011*\"port\" + 0.011*\"battery\" + 0.010*\"cd\" + 0.010*\"bus\" + 0.010*\"advance\" + 0.009*\"mac\" + 0.009*\"controller\" + 0.009*\"scsi\" + 0.009*\"monitor\" + 0.009*\"apple\" + 0.007*\"ide\" + 0.007*\"printer\"')\n"
     ]
    }
   ],
   "source": [
    "# Print the topics\n",
    "topics_20 = lda_model_20.print_topics(num_words=20)\n",
    "for topic in topics_20:\n",
    "    print(topic)"
   ]
  },
  {
   "cell_type": "markdown",
   "metadata": {},
   "source": [
    "The 20 topics generally align well with 20NG classes, clearly capturing major themes like religion, sports, and computing.\n",
    "Increasing to 50 topics allows for more fine-grained distinctions but may introduce redundancy or overly narrow topics.\n",
    "Thus, increasing topic count offers better alignment but also brings the risk of added noise."
   ]
  },
  {
   "cell_type": "markdown",
   "metadata": {},
   "source": [
    "K=50"
   ]
  },
  {
   "cell_type": "code",
   "execution_count": 50,
   "metadata": {},
   "outputs": [],
   "source": [
    "lda_model_50 = gensim.models.ldamodel.LdaModel(corpus=corpus,\n",
    "                                            id2word=id_word,\n",
    "                                            num_topics=50, \n",
    "                                            random_state=100,\n",
    "                                            update_every=1,\n",
    "                                            chunksize=100,\n",
    "                                            passes=10,\n",
    "                                            alpha='auto',\n",
    "                                            per_word_topics=True)"
   ]
  },
  {
   "cell_type": "code",
   "execution_count": 51,
   "metadata": {},
   "outputs": [
    {
     "name": "stdout",
     "output_type": "stream",
     "text": [
      "(0, '0.081*\"field\" + 0.063*\"object\" + 0.059*\"society\" + 0.039*\"sex\" + 0.038*\"stat\" + 0.036*\"associate\" + 0.034*\"beyond\" + 0.030*\"ice\" + 0.027*\"association\" + 0.025*\"south\"')\n",
      "(1, '0.000*\"fribourg\" + 0.000*\"flint\" + 0.000*\"gonchar\" + 0.000*\"gemeinschaft\" + 0.000*\"gasser\" + 0.000*\"frolunda\" + 0.000*\"gordie\" + 0.000*\"francais\" + 0.000*\"finals\" + 0.000*\"flair\"')\n",
      "(2, '0.053*\"suit\" + 0.035*\"football\" + 0.029*\"ref\" + 0.003*\"ou\" + 0.000*\"frolunda\" + 0.000*\"gonchar\" + 0.000*\"gemeinschaft\" + 0.000*\"gordie\" + 0.000*\"gasser\" + 0.000*\"flair\"')\n",
      "(3, '0.000*\"fribourg\" + 0.000*\"flint\" + 0.000*\"gonchar\" + 0.000*\"gemeinschaft\" + 0.000*\"gasser\" + 0.000*\"frolunda\" + 0.000*\"gordie\" + 0.000*\"francais\" + 0.000*\"finals\" + 0.000*\"flair\"')\n",
      "(4, '0.120*\"entry\" + 0.076*\"win\" + 0.037*\"rule\" + 0.029*\"pick\" + 0.026*\"throw\" + 0.026*\"watch\" + 0.024*\"total\" + 0.020*\"decision\" + 0.019*\"round\" + 0.019*\"thomas\"')\n",
      "(5, '0.086*\"door\" + 0.083*\"shall\" + 0.067*\"european\" + 0.045*\"prayer\" + 0.043*\"lord\" + 0.042*\"clean\" + 0.033*\"father\" + 0.030*\"japanese\" + 0.030*\"daniel\" + 0.023*\"living\"')\n",
      "(6, '0.546*\"file\" + 0.072*\"ms\" + 0.028*\"directory\" + 0.023*\"australia\" + 0.022*\"string\" + 0.017*\"zip\" + 0.016*\"centre\" + 0.014*\"it\" + 0.014*\"cica\" + 0.013*\"ver\"')\n",
      "(7, '0.102*\"game\" + 0.074*\"play\" + 0.056*\"team\" + 0.044*\"player\" + 0.038*\"year\" + 0.025*\"th\" + 0.025*\"he\" + 0.025*\"fan\" + 0.024*\"goal\" + 0.021*\"san\"')\n",
      "(8, '0.032*\"mike\" + 0.029*\"new\" + 0.026*\"minute\" + 0.025*\"blue\" + 0.023*\"boston\" + 0.021*\"division\" + 0.019*\"trade\" + 0.019*\"hole\" + 0.019*\"heavy\" + 0.019*\"city\"')\n",
      "(9, '0.122*\"key\" + 0.065*\"chip\" + 0.041*\"encryption\" + 0.037*\"algorithm\" + 0.037*\"privacy\" + 0.031*\"clipper\" + 0.030*\"stream\" + 0.029*\"communication\" + 0.028*\"des\" + 0.028*\"phone\"')\n",
      "(10, '0.109*\"program\" + 0.101*\"window\" + 0.045*\"application\" + 0.035*\"run\" + 0.033*\"user\" + 0.033*\"format\" + 0.023*\"hi\" + 0.021*\"load\" + 0.017*\"windows\" + 0.015*\"int\"')\n",
      "(11, '0.272*\"drive\" + 0.108*\"disk\" + 0.069*\"scsi\" + 0.055*\"hard\" + 0.050*\"mb\" + 0.026*\"hd\" + 0.023*\"employer\" + 0.020*\"chain\" + 0.016*\"bush\" + 0.014*\"edward\"')\n",
      "(12, '0.068*\"please\" + 0.064*\"mail\" + 0.062*\"thank\" + 0.048*\"university\" + 0.047*\"send\" + 0.043*\"information\" + 0.042*\"post\" + 0.040*\"email\" + 0.036*\"address\" + 0.032*\"list\"')\n",
      "(13, '0.161*\"datum\" + 0.106*\"model\" + 0.072*\"unit\" + 0.040*\"perform\" + 0.037*\"sequence\" + 0.030*\"match\" + 0.027*\"requirement\" + 0.026*\"channel\" + 0.023*\"laser\" + 0.021*\"digital\"')\n",
      "(14, '0.095*\"st\" + 0.063*\"hockey\" + 0.039*\"star\" + 0.038*\"weight\" + 0.035*\"vs\" + 0.034*\"ny\" + 0.028*\"wing\" + 0.026*\"cold\" + 0.025*\"sport\" + 0.024*\"rec\"')\n",
      "(15, '0.212*\"internet\" + 0.092*\"voice\" + 0.078*\"quality\" + 0.062*\"edge\" + 0.059*\"co\" + 0.040*\"trace\" + 0.027*\"israelis\" + 0.021*\"isbn\" + 0.020*\"uucp\" + 0.019*\"systems\"')\n",
      "(16, '0.031*\"adjustment\" + 0.000*\"frolunda\" + 0.000*\"francais\" + 0.000*\"gonchar\" + 0.000*\"gemeinschaft\" + 0.000*\"gasser\" + 0.000*\"gordie\" + 0.000*\"fribourg\" + 0.000*\"finisher\" + 0.000*\"fledged\"')\n",
      "(17, '0.090*\"eff\" + 0.047*\"poster\" + 0.046*\"rsa\" + 0.045*\"hall\" + 0.044*\"org\" + 0.036*\"math\" + 0.029*\"gov\" + 0.029*\"den\" + 0.025*\"po\" + 0.024*\"announcement\"')\n",
      "(18, '0.214*\"organization\" + 0.057*\"sleep\" + 0.021*\"inflate\" + 0.019*\"selection\" + 0.013*\"books\" + 0.012*\"sol\" + 0.009*\"eng\" + 0.009*\"briefly\" + 0.006*\"explosion\" + 0.000*\"francais\"')\n",
      "(19, '0.110*\"os\" + 0.103*\"controller\" + 0.082*\"ide\" + 0.052*\"cpu\" + 0.044*\"logic\" + 0.043*\"memory\" + 0.040*\"boot\" + 0.035*\"dos\" + 0.033*\"bio\" + 0.032*\"simms\"')\n",
      "(20, '0.078*\"display\" + 0.053*\"error\" + 0.051*\"sun\" + 0.050*\"server\" + 0.031*\"guideline\" + 0.030*\"xv\" + 0.027*\"font\" + 0.027*\"character\" + 0.020*\"config\" + 0.019*\"buffer\"')\n",
      "(21, '0.164*\"max\" + 0.067*\"slip\" + 0.049*\"battery\" + 0.045*\"dod\" + 0.037*\"air\" + 0.032*\"white\" + 0.023*\"reaction\" + 0.021*\"surface\" + 0.021*\"green\" + 0.021*\"cell\"')\n",
      "(22, '0.068*\"child\" + 0.056*\"mr\" + 0.032*\"homosexual\" + 0.024*\"health\" + 0.020*\"cramer\" + 0.020*\"turkish\" + 0.019*\"man\" + 0.019*\"clayton\" + 0.018*\"abuse\" + 0.017*\"genocide\"')\n",
      "(23, '0.046*\"establish\" + 0.044*\"de\" + 0.044*\"muslim\" + 0.042*\"tel\" + 0.038*\"german\" + 0.037*\"tm\" + 0.036*\"uk\" + 0.029*\"instruction\" + 0.029*\"hello\" + 0.027*\"germany\"')\n",
      "(24, '0.149*\"baseball\" + 0.049*\"raw\" + 0.044*\"stable\" + 0.011*\"cardinal\" + 0.002*\"torre\" + 0.000*\"gonchar\" + 0.000*\"gordie\" + 0.000*\"gasser\" + 0.000*\"goodenow\" + 0.000*\"frolunda\"')\n",
      "(25, '0.214*\"alt\" + 0.000*\"fribourg\" + 0.000*\"flint\" + 0.000*\"gonchar\" + 0.000*\"gemeinschaft\" + 0.000*\"gasser\" + 0.000*\"frolunda\" + 0.000*\"gordie\" + 0.000*\"finisher\" + 0.000*\"fledged\"')\n",
      "(26, '0.220*\"output\" + 0.071*\"switch\" + 0.053*\"null\" + 0.042*\"signal\" + 0.040*\"lock\" + 0.033*\"wire\" + 0.032*\"transmission\" + 0.027*\"ground\" + 0.026*\"dc\" + 0.022*\"sh\"')\n",
      "(27, '0.112*\"period\" + 0.072*\"pp\" + 0.060*\"pt\" + 0.050*\"robert\" + 0.047*\"king\" + 0.034*\"hey\" + 0.029*\"wall\" + 0.029*\"detroit\" + 0.027*\"toronto\" + 0.026*\"spring\"')\n",
      "(28, '0.061*\"use\" + 0.024*\"system\" + 0.018*\"new\" + 0.017*\"work\" + 0.016*\"line\" + 0.014*\"also\" + 0.014*\"need\" + 0.014*\"problem\" + 0.013*\"computer\" + 0.011*\"number\"')\n",
      "(29, '0.082*\"fire\" + 0.053*\"fbi\" + 0.045*\"arm\" + 0.042*\"government\" + 0.041*\"tank\" + 0.041*\"gas\" + 0.040*\"federal\" + 0.037*\"nsa\" + 0.036*\"batf\" + 0.027*\"agent\"')\n",
      "(30, '0.051*\"ftp\" + 0.046*\"edu\" + 0.041*\"pub\" + 0.039*\"code\" + 0.031*\"available\" + 0.029*\"package\" + 0.029*\"site\" + 0.026*\"faq\" + 0.022*\"source\" + 0.021*\"anonymous\"')\n",
      "(31, '0.043*\"not\" + 0.029*\"do\" + 0.028*\"write\" + 0.026*\"would\" + 0.019*\"one\" + 0.018*\"article\" + 0.018*\"get\" + 0.017*\"know\" + 0.016*\"like\" + 0.014*\"think\"')\n",
      "(32, '0.053*\"card\" + 0.049*\"driver\" + 0.037*\"color\" + 0.033*\"bit\" + 0.031*\"pc\" + 0.031*\"board\" + 0.029*\"graphic\" + 0.028*\"video\" + 0.028*\"mode\" + 0.027*\"modem\"')\n",
      "(33, '0.074*\"value\" + 0.067*\"al\" + 0.067*\"james\" + 0.050*\"limit\" + 0.038*\"argue\" + 0.034*\"conclusion\" + 0.033*\"description\" + 0.031*\"instance\" + 0.031*\"virtual\" + 0.028*\"bell\"')\n",
      "(34, '0.071*\"car\" + 0.040*\"bike\" + 0.028*\"light\" + 0.022*\"bob\" + 0.018*\"engine\" + 0.018*\"street\" + 0.018*\"doug\" + 0.018*\"ride\" + 0.018*\"road\" + 0.017*\"brian\"')\n",
      "(35, '0.091*\"advance\" + 0.082*\"van\" + 0.067*\"dan\" + 0.067*\"command\" + 0.059*\"processor\" + 0.031*\"unknown\" + 0.029*\"movie\" + 0.027*\"er\" + 0.025*\"quit\" + 0.021*\"quicktime\"')\n",
      "(36, '0.187*\"law\" + 0.125*\"evidence\" + 0.101*\"weapon\" + 0.057*\"judge\" + 0.057*\"legal\" + 0.053*\"us\" + 0.041*\"criminal\" + 0.028*\"civil\" + 0.024*\"adam\" + 0.023*\"congress\"')\n",
      "(37, '0.086*\"seat\" + 0.078*\"brake\" + 0.064*\"corner\" + 0.044*\"jackson\" + 0.042*\"passenger\" + 0.040*\"smooth\" + 0.016*\"horn\" + 0.005*\"glue\" + 0.000*\"finisher\" + 0.000*\"gonchar\"')\n",
      "(38, '0.024*\"may\" + 0.016*\"one\" + 0.014*\"book\" + 0.013*\"must\" + 0.013*\"follow\" + 0.013*\"word\" + 0.013*\"question\" + 0.012*\"mean\" + 0.012*\"read\" + 0.011*\"many\"')\n",
      "(39, '0.234*\"gun\" + 0.066*\"anti\" + 0.056*\"control\" + 0.042*\"trial\" + 0.042*\"excellent\" + 0.033*\"accident\" + 0.031*\"andy\" + 0.030*\"phrase\" + 0.023*\"liberty\" + 0.018*\"sad\"')\n",
      "(40, '0.342*\"I\" + 0.214*\"m\" + 0.144*\"ve\" + 0.040*\"wonder\" + 0.027*\"drug\" + 0.021*\"doctor\" + 0.019*\"eat\" + 0.015*\"sure\" + 0.014*\"stupid\" + 0.010*\"cat\"')\n",
      "(41, '0.063*\"group\" + 0.054*\"issue\" + 0.051*\"talk\" + 0.039*\"general\" + 0.037*\"exist\" + 0.034*\"view\" + 0.031*\"statement\" + 0.028*\"discussion\" + 0.028*\"important\" + 0.026*\"create\"')\n",
      "(42, '0.208*\"image\" + 0.075*\"page\" + 0.056*\"printer\" + 0.054*\"print\" + 0.037*\"california\" + 0.030*\"march\" + 0.025*\"processing\" + 0.024*\"parallel\" + 0.024*\"hp\" + 0.023*\"scale\"')\n",
      "(43, '0.039*\"space\" + 0.035*\"research\" + 0.033*\"center\" + 0.020*\"response\" + 0.019*\"three\" + 0.018*\"report\" + 0.018*\"dave\" + 0.018*\"earth\" + 0.017*\"single\" + 0.016*\"hour\"')\n",
      "(44, '0.000*\"fribourg\" + 0.000*\"flint\" + 0.000*\"gonchar\" + 0.000*\"gemeinschaft\" + 0.000*\"gasser\" + 0.000*\"frolunda\" + 0.000*\"gordie\" + 0.000*\"francais\" + 0.000*\"finals\" + 0.000*\"flair\"')\n",
      "(45, '0.168*\"god\" + 0.066*\"christian\" + 0.043*\"believe\" + 0.041*\"jesus\" + 0.041*\"belief\" + 0.041*\"bible\" + 0.041*\"religion\" + 0.035*\"church\" + 0.029*\"faith\" + 0.024*\"sin\"')\n",
      "(46, '0.065*\"government\" + 0.036*\"public\" + 0.028*\"policy\" + 0.027*\"israel\" + 0.026*\"president\" + 0.024*\"state\" + 0.023*\"israeli\" + 0.022*\"freedom\" + 0.022*\"american\" + 0.022*\"clinton\"')\n",
      "(47, '0.094*\"cd\" + 0.072*\"picture\" + 0.066*\"ed\" + 0.065*\"gif\" + 0.059*\"tape\" + 0.059*\"byte\" + 0.042*\"rom\" + 0.039*\"crash\" + 0.036*\"art\" + 0.025*\"martin\"')\n",
      "(48, '0.040*\"people\" + 0.025*\"day\" + 0.022*\"we\" + 0.021*\"right\" + 0.020*\"man\" + 0.020*\"live\" + 0.019*\"world\" + 0.015*\"carry\" + 0.015*\"bill\" + 0.015*\"life\"')\n",
      "(49, '0.093*\"head\" + 0.078*\"apr\" + 0.074*\"figure\" + 0.063*\"water\" + 0.055*\"student\" + 0.044*\"raise\" + 0.044*\"date\" + 0.044*\"gmt\" + 0.037*\"context\" + 0.028*\"totally\"')\n"
     ]
    }
   ],
   "source": [
    "topics_50= lda_model_50.print_topics(num_topics=50, num_words=10)\n",
    "for topic in topics_50:\n",
    "    print(topic)"
   ]
  },
  {
   "cell_type": "markdown",
   "metadata": {},
   "source": [
    "NMF"
   ]
  },
  {
   "cell_type": "code",
   "execution_count": 45,
   "metadata": {},
   "outputs": [
    {
     "name": "stdout",
     "output_type": "stream",
     "text": [
      "\n",
      "NMF with 10 topics:\n",
      "--------------------------------------------------\n",
      "Topic 0: car + bike + engine + buy + dod + ride + good + like + price + oil\n",
      "Topic 1: window + file + program + run + use + font + application + manager + ms + windows\n",
      "Topic 2: game + team + play + player + hockey + win + year + fan + baseball + season\n",
      "Topic 3: god + jesus + christian + believe + bible + say + christ + faith + sin + atheist\n",
      "Topic 4: drive + scsi + disk + ide + hard + mb + controller + floppy + meg + boot\n",
      "Topic 5: key + chip + clipper + encryption + government + use + phone + escrow + algorithm + nsa\n",
      "Topic 6: israel + armenian + jews + arab + israeli + turkish + muslim + kill + jewish + war\n",
      "Topic 7: thank + mail + email + know + information + advance + send + list + address + post\n",
      "Topic 8: card + monitor + driver + video + color + mhz + bus + mb + bit + port\n",
      "Topic 9: people + write + gun + article + think + say + right + make + like + government\n",
      "\n",
      "NMF with 20 topics:\n",
      "--------------------------------------------------\n",
      "Topic 0: write + think + article + say + people + know + like + thing + make + read\n",
      "Topic 1: window + run + font + application + os + ms + manager + windows + program + use\n",
      "Topic 2: team + player + play + year + win + season + fan + good + hockey + hit\n",
      "Topic 3: god + jesus + believe + christian + bible + christ + sin + faith + love + atheist\n",
      "Topic 4: drive + scsi + disk + ide + hard + controller + mb + floppy + meg + boot\n",
      "Topic 5: key + chip + clipper + encryption + phone + government + escrow + algorithm + use + nsa\n",
      "Topic 6: fbi + batf + government + koresh + child + compound + clinton + people + waco + warrant\n",
      "Topic 7: sale + offer + price + sell + new + good + book + condition + include + interested\n",
      "Topic 8: card + driver + video + bus + color + mb + graphic + vlb + diamond + dx\n",
      "Topic 9: armenian + turkish + muslim + armenians + armenia + genocide + turk + soviet + greek + turkey\n",
      "Topic 10: car + engine + oil + dealer + model + ford + mile + speed + auto + look\n",
      "Topic 11: thank + mail + advance + know + email + appreciate + hi + information + address + reply\n",
      "Topic 12: file + program + image + format + ftp + gif + convert + graphic + directory + disk\n",
      "Topic 13: homosexual + cramer + gay + man + clayton + sexual + sex + promiscuous + male + homosexuality\n",
      "Topic 14: israel + arab + israeli + jews + jewish + kill + peace + palestinians + state + israelis\n",
      "Topic 15: bike + dod + ride + motorcycle + write + article + dog + ve + bmw + road\n",
      "Topic 16: game + espn + baseball + hockey + playoff + night + pen + cap + score + penguin\n",
      "Topic 17: gun + crime + weapon + firearm + law + criminal + control + people + right + police\n",
      "Topic 18: use + monitor + problem + modem + mac + work + computer + port + apple + switch\n",
      "Topic 19: space + launch + shuttle + orbit + nasa + cost + satellite + science + earth + moon\n",
      "\n",
      "NMF with 50 topics:\n",
      "--------------------------------------------------\n",
      "Topic 0: people + think + like + thing + want + good + make + ve + time + look\n",
      "Topic 1: window + os + ms + manager + run + windows + application + microsoft + app + crash\n",
      "Topic 2: win + new + boston + st + vs + bruin + period + cup + montreal + blue\n",
      "Topic 3: god + believe + love + atheist + hell + sin + exist + existence + create + bible\n",
      "Topic 4: drive + hard + floppy + ide + boot + meg + controller + format + mb + jumper\n",
      "Topic 5: key + bit + pgp + encrypt + escrow + des + public + message + security + attack\n",
      "Topic 6: driver + version + ftp + diamond + site + mode + ati + available + video + vesa\n",
      "Topic 7: thank + advance + hi + appreciate + help + email + information + info + look + anybody\n",
      "Topic 8: card + video + bus + graphic + controller + vlb + slot + color + isa + pc\n",
      "Topic 9: gun + crime + firearm + weapon + criminal + control + handgun + police + carry + rate\n",
      "Topic 10: car + engine + oil + model + dealer + ford + mile + speed + auto + buy\n",
      "Topic 11: bike + dod + ride + motorcycle + bmw + dog + rider + road + buy + ve\n",
      "Topic 12: file + format + directory + convert + ftp + gif + bmp + exe + zip + swap\n",
      "Topic 13: homosexual + cramer + gay + man + clayton + sexual + sex + promiscuous + male + homosexuality\n",
      "Topic 14: israel + arab + israeli + jews + jewish + kill + palestinians + peace + israelis + soldier\n",
      "Topic 15: armenian + turkish + armenians + armenia + turk + genocide + soviet + turkey + greek + massacre\n",
      "Topic 16: game + espn + baseball + hockey + night + playoff + pen + fan + cap + play\n",
      "Topic 17: team + player + play + hockey + fan + nhl + season + year + good + league\n",
      "Topic 18: monitor + computer + screen + power + vga + video + color + cable + switch + turn\n",
      "Topic 19: fbi + batf + koresh + child + compound + government + warrant + tank + davidian + waco\n",
      "Topic 20: mhz + dx + mb + motherboard + speed + cpu + ram + bus + board + run\n",
      "Topic 21: copy + protection + backup + software + question + pirate + machine + answer + user + make\n",
      "Topic 22: space + launch + shuttle + orbit + nasa + cost + satellite + moon + earth + station\n",
      "Topic 23: article + write + david + post + john + read + sure + mike + opinion + mark\n",
      "Topic 24: printer + print + laser + hp + deskjet + ink + bj + postscript + bubblejet + canon\n",
      "Topic 25: modem + port + serial + com + irq + bis + pin + pc + connect + internal\n",
      "Topic 26: jesus + christ + sin + heaven + law + christian + die + paul + father + bible\n",
      "Topic 27: problem + work + line + try + time + machine + fix + battery + error + change\n",
      "Topic 28: christian + church + religion + belief + faith + christianity + bible + believe + catholic + atheist\n",
      "Topic 29: scsi + ide + controller + bus + device + fast + mb + pc + adaptec + interface\n",
      "Topic 30: disease + doctor + msg + patient + effect + medical + food + study + test + gordon\n",
      "Topic 31: mac + apple + cd + lc + simms + rom + buy + duo + fpu + price\n",
      "Topic 32: hit + pitch + pitcher + year + run + clutch + ball + hitter + player + guy\n",
      "Topic 33: book + read + good + reference + chemistry + page + title + guide + publish + author\n",
      "Topic 34: image + color + bit + display + xv + screen + gif + jpeg + format + pixel\n",
      "Topic 35: chip + clipper + encryption + government + algorithm + crypto + nsa + privacy + secure + phone\n",
      "Topic 36: phone + university + internet + fax + computer + email + georgia + number + research + science\n",
      "Topic 37: objective + moral + morality + value + jon + keith + mean + goal + livesey + natural\n",
      "Topic 38: right + law + government + state + constitution + amendment + arm + court + federal + citizen\n",
      "Topic 39: motif + server + run + widget + application + display + sun + code + software + pc\n",
      "Topic 40: know + let + question + tell + mr + really + anybody + want + answer + appreciate\n",
      "Topic 41: program + graphic + icon + group + manager + ftp + format + shareware + package + object\n",
      "Topic 42: muslim + islam + serb + bosnian + muslims + war + islamic + bosnia + croat + world\n",
      "Topic 43: sale + offer + sell + price + condition + good + new + shipping + include + interested\n",
      "Topic 44: mouse + com + keyboard + windows + motion + microsoft + jump + sys + button + smoothly\n",
      "Topic 45: say + subject + thing + word + quote + fact + mean + previous + bob + speak\n",
      "Topic 46: disk + pc + hard + read + software + mb + boot + memory + floppy + manual\n",
      "Topic 47: font + truetype + atm + character + tt + change + size + small + type + default\n",
      "Topic 48: mail + list + post + address + send + reply + mailing + message + group + subscribe\n",
      "Topic 49: use + switch + device + audio + circuit + tape + signal + stuff + input + buy\n"
     ]
    },
    {
     "name": "stderr",
     "output_type": "stream",
     "text": [
      "/Users/hunjunsin/.pyenv/versions/3.11.6/lib/python3.11/site-packages/sklearn/decomposition/_nmf.py:1741: ConvergenceWarning: Maximum number of iterations 200 reached. Increase it to improve convergence.\n",
      "  warnings.warn(\n"
     ]
    }
   ],
   "source": [
    "from sklearn.decomposition import NMF\n",
    "from sklearn.feature_extraction.text import TfidfVectorizer\n",
    "import numpy as np\n",
    "\n",
    "vectorizer = TfidfVectorizer(\n",
    "    max_features=10000,\n",
    "    lowercase=True,\n",
    "    stop_words='english',\n",
    "    max_df=0.8,\n",
    "    min_df=5\n",
    ")\n",
    "\n",
    "processed_texts = [' '.join(doc) for doc in final_document]\n",
    "tfidf_matrix = vectorizer.fit_transform(processed_texts)\n",
    "\n",
    "feature_names = vectorizer.get_feature_names_out()\n",
    "\n",
    "def print_topics(model, feature_names, n_top_words):\n",
    "    topics = []\n",
    "    for topic_idx, topic in enumerate(model.components_):\n",
    "        top_words = [feature_names[i] for i in topic.argsort()[:-n_top_words-1:-1]]\n",
    "        topics.append((topic_idx, ' + '.join(top_words)))\n",
    "    return topics\n",
    "\n",
    "n_topics_list = [10, 20, 50]\n",
    "for n_topics in n_topics_list:\n",
    "    print(f\"\\nNMF with {n_topics} topics:\")\n",
    "    print(\"-\" * 50)\n",
    "    \n",
    "    nmf_model = NMF(\n",
    "        n_components=n_topics,\n",
    "        random_state=42,\n",
    "        init='nndsvd',\n",
    "        max_iter=200\n",
    "    )\n",
    "    nmf_output = nmf_model.fit_transform(tfidf_matrix)\n",
    "    \n",
    "    topics = print_topics(nmf_model, feature_names, 10)\n",
    "    for topic_idx, topic in topics:\n",
    "        print(f\"Topic {topic_idx}: {topic}\")"
   ]
  },
  {
   "cell_type": "markdown",
   "metadata": {},
   "source": [
    "NMF with 10 topics:\n",
    "--------------------------------------------------\n",
    "Topic 0: car + bike + engine + buy + dod + ride + good + like + price + oil\n",
    "\n",
    "Topic 1: window + file + program + run + use + font + application + manager + ms + windows\n",
    "\n",
    "Topic 2: game + team + play + player + hockey + win + year + fan + baseball + season\n",
    "\n",
    "Topic 3: god + jesus + christian + believe + bible + say + christ + faith + sin + atheist\n",
    "\n",
    "Topic 4: drive + scsi + disk + ide + hard + mb + controller + floppy + meg + boot\n",
    "\n",
    "Topic 5: key + chip + clipper + encryption + government + use + phone + escrow + algorithm + nsa\n",
    "\n",
    "Topic 6: israel + armenian + jews + arab + israeli + turkish + muslim + kill + jewish + war\n",
    "\n",
    "Topic 7: thank + mail + email + know + information + advance + send + list + address + post\n",
    "\n",
    "Topic 8: card + monitor + driver + video + color + mhz + bus + mb + bit + port\n",
    "\n",
    "Topic 9: people + write + gun + article + think + say + right + make + like + government"
   ]
  },
  {
   "cell_type": "markdown",
   "metadata": {},
   "source": [
    "NMF with 20 topics:\n",
    "--------------------------------------------------\n",
    "Topic 0: write + think + article + say + people + know + like + thing + make + read\n",
    "\n",
    "Topic 1: window + run + font + application + os + ms + manager + windows + program + use\n",
    "\n",
    "Topic 2: team + player + play + year + win + season + fan + good + hockey + hit\n",
    "\n",
    "Topic 3: god + jesus + believe + christian + bible + christ + sin + faith + love + atheist\n",
    "\n",
    "Topic 4: drive + scsi + disk + ide + hard + controller + mb + floppy + meg + boot\n",
    "\n",
    "Topic 5: key + chip + clipper + encryption + phone + government + escrow + algorithm + use + nsa\n",
    "\n",
    "Topic 6: fbi + batf + government + koresh + child + compound + clinton + people + waco + warrant\n",
    "\n",
    "Topic 7: sale + offer + price + sell + new + good + book + condition + include + interested\n",
    "\n",
    "Topic 8: card + driver + video + bus + color + mb + graphic + vlb + diamond + dx\n",
    "\n",
    "Topic 9: armenian + turkish + muslim + armenians + armenia + genocide + turk + soviet + greek + turkey\n",
    "\n",
    "Topic 10: car + engine + oil + dealer + model + ford + mile + speed + auto + look\n",
    "\n",
    "Topic 11: thank + mail + advance + know + email + appreciate + hi + information + address + reply\n",
    "\n",
    "Topic 12: file + program + image + format + ftp + gif + convert + graphic + directory + disk\n",
    "\n",
    "Topic 13: homosexual + cramer + gay + man + clayton + sexual + sex + promiscuous + male + homosexuality\n",
    "\n",
    "Topic 14: israel + arab + israeli + jews + jewish + kill + peace + palestinians + state + israelis\n",
    "\n",
    "Topic 15: bike + dod + ride + motorcycle + write + article + dog + ve + bmw + road\n",
    "\n",
    "Topic 16: game + espn + baseball + hockey + playoff + night + pen + cap + score + penguin\n",
    "\n",
    "Topic 17: gun + crime + weapon + firearm + law + criminal + control + people + right + police\n",
    "\n",
    "Topic 18: use + monitor + problem + modem + mac + work + computer + port + apple + switch\n",
    "\n",
    "Topic 19: space + launch + shuttle + orbit + nasa + cost + satellite + science + earth + moon"
   ]
  },
  {
   "cell_type": "markdown",
   "metadata": {},
   "source": [
    "## NMF with 50 topics:\n",
    "\n",
    "---\n",
    "\n",
    "**Topic 0:**  \n",
    "people + think + like + thing + want + good + make + ve + time + look  \n",
    "\n",
    "**Topic 1:**  \n",
    "window + os + ms + manager + run + windows + application + microsoft + app + crash  \n",
    "\n",
    "**Topic 2:**  \n",
    "win + new + boston + st + vs + bruin + period + cup + montreal + blue  \n",
    "\n",
    "**Topic 3:**  \n",
    "god + believe + love + atheist + hell + sin + exist + existence + create + bible  \n",
    "\n",
    "**Topic 4:**  \n",
    "drive + hard + floppy + ide + boot + meg + controller + format + mb + jumper  \n",
    "\n",
    "**Topic 5:**  \n",
    "key + bit + pgp + encrypt + escrow + des + public + message + security + attack  \n",
    "\n",
    "**Topic 6:**  \n",
    "driver + version + ftp + diamond + site + mode + ati + available + video + vesa  \n",
    "\n",
    "**Topic 7:**  \n",
    "thank + advance + hi + appreciate + help + email + information + info + look + anybody  \n",
    "\n",
    "**Topic 8:**  \n",
    "card + video + bus + graphic + controller + vlb + slot + color + isa + pc  \n",
    "\n",
    "**Topic 9:**  \n",
    "gun + crime + firearm + weapon + criminal + control + handgun + police + carry + rate  \n",
    "\n",
    "**Topic 10:**  \n",
    "car + engine + oil + model + dealer + ford + mile + speed + auto + buy  \n",
    "\n",
    "**Topic 11:**  \n",
    "bike + dod + ride + motorcycle + bmw + dog + rider + road + buy + ve  \n",
    "\n",
    "**Topic 12:**  \n",
    "file + format + directory + convert + ftp + gif + bmp + exe + zip + swap  \n",
    "\n",
    "**Topic 13:**  \n",
    "homosexual + cramer + gay + man + clayton + sexual + sex + promiscuous + male + homosexuality  \n",
    "\n",
    "**Topic 14:**  \n",
    "israel + arab + israeli + jews + jewish + kill + palestinians + peace + israelis + soldier  \n",
    "\n",
    "**Topic 15:**  \n",
    "armenian + turkish + armenians + armenia + turk + genocide + soviet + turkey + greek + massacre  \n",
    "\n",
    "**Topic 16:**  \n",
    "game + espn + baseball + hockey + night + playoff + pen + fan + cap + play  \n",
    "\n",
    "**Topic 17:**  \n",
    "team + player + play + hockey + fan + nhl + season + year + good + league  \n",
    "\n",
    "**Topic 18:**  \n",
    "monitor + computer + screen + power + vga + video + color + cable + switch + turn  \n",
    "\n",
    "**Topic 19:**  \n",
    "fbi + batf + koresh + child + compound + government + warrant + tank + davidian + waco  \n",
    "\n",
    "**Topic 20:**  \n",
    "mhz + dx + mb + motherboard + speed + cpu + ram + bus + board + run  \n",
    "\n",
    "**Topic 21:**  \n",
    "copy + protection + backup + software + question + pirate + machine + answer + user + make  \n",
    "\n",
    "**Topic 22:**  \n",
    "space + launch + shuttle + orbit + nasa + cost + satellite + moon + earth + station  \n",
    "\n",
    "**Topic 23:**  \n",
    "article + write + david + post + john + read + sure + mike + opinion + mark  \n",
    "\n",
    "**Topic 24:**  \n",
    "printer + print + laser + hp + deskjet + ink + bj + postscript + bubblejet + canon  \n",
    "\n",
    "**Topic 25:**  \n",
    "modem + port + serial + com + irq + bis + pin + pc + connect + internal  \n",
    "\n",
    "**Topic 26:**  \n",
    "jesus + christ + sin + heaven + law + christian + die + paul + father + bible  \n",
    "\n",
    "**Topic 27:**  \n",
    "problem + work + line + try + time + machine + fix + battery + error + change  \n",
    "\n",
    "**Topic 28:**  \n",
    "christian + church + religion + belief + faith + christianity + bible + believe + catholic + atheist  \n",
    "\n",
    "**Topic 29:**  \n",
    "scsi + ide + controller + bus + device + fast + mb + pc + adaptec + interface  \n",
    "\n",
    "**Topic 30:**  \n",
    "disease + doctor + msg + patient + effect + medical + food + study + test + gordon  \n",
    "\n",
    "**Topic 31:**  \n",
    "mac + apple + cd + lc + simms + rom + buy + duo + fpu + price  \n",
    "\n",
    "**Topic 32:**  \n",
    "hit + pitch + pitcher + year + run + clutch + ball + hitter + player + guy  \n",
    "\n",
    "**Topic 33:**  \n",
    "book + read + good + reference + chemistry + page + title + guide + publish + author  \n",
    "\n",
    "**Topic 34:**  \n",
    "image + color + bit + display + xv + screen + gif + jpeg + format + pixel  \n",
    "\n",
    "**Topic 35:**  \n",
    "chip + clipper + encryption + government + algorithm + crypto + nsa + privacy + secure + phone  \n",
    "\n",
    "**Topic 36:**  \n",
    "phone + university + internet + fax + computer + email + georgia + number + research + science  \n",
    "\n",
    "**Topic 37:**  \n",
    "objective + moral + morality + value + jon + keith + mean + goal + livesey + natural  \n",
    "\n",
    "**Topic 38:**  \n",
    "right + law + government + state + constitution + amendment + arm + court + federal + citizen  \n",
    "\n",
    "**Topic 39:**  \n",
    "motif + server + run + widget + application + display + sun + code + software + pc  \n",
    "\n",
    "**Topic 40:**  \n",
    "know + let + question + tell + mr + really + anybody + want + answer + appreciate  \n",
    "\n",
    "**Topic 41:**  \n",
    "program + graphic + icon + group + manager + ftp + format + shareware + package + object  \n",
    "\n",
    "**Topic 42:**  \n",
    "muslim + islam + serb + bosnian + muslims + war + islamic + bosnia + croat + world  \n",
    "\n",
    "**Topic 43:**  \n",
    "sale + offer + sell + price + condition + good + new + shipping + include + interested  \n",
    "\n",
    "**Topic 44:**  \n",
    "mouse + com + keyboard + windows + motion + microsoft + jump + sys + button + smoothly  \n",
    "\n",
    "**Topic 45:**  \n",
    "say + subject + thing + word + quote + fact + mean + previous + bob + speak  \n",
    "\n",
    "**Topic 46:**  \n",
    "disk + pc + hard + read + software + mb + boot + memory + floppy + manual  \n",
    "\n",
    "**Topic 47:**  \n",
    "font + truetype + atm + character + tt + change + size + small + type + default  \n",
    "\n",
    "**Topic 48:**  \n",
    "mail + list + post + address + send + reply + mailing + message + group + subscribe  \n",
    "\n",
    "**Topic 49:**  \n",
    "use + switch + device + audio + circuit + tape + signal + stuff + input + buy"
   ]
  },
  {
   "cell_type": "code",
   "execution_count": null,
   "metadata": {},
   "outputs": [],
   "source": []
  }
 ],
 "metadata": {
  "kernelspec": {
   "display_name": "Python 3",
   "language": "python",
   "name": "python3"
  },
  "language_info": {
   "codemirror_mode": {
    "name": "ipython",
    "version": 3
   },
   "file_extension": ".py",
   "mimetype": "text/x-python",
   "name": "python",
   "nbconvert_exporter": "python",
   "pygments_lexer": "ipython3",
   "version": "3.11.6"
  }
 },
 "nbformat": 4,
 "nbformat_minor": 2
}
