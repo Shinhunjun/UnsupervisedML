{
 "cells": [
  {
   "cell_type": "markdown",
   "metadata": {},
   "source": [
    "Implement Gibbs Sampling for a multidim gaussian generative joint, by using the conditionals which are also gaussian distributions . The minimum requirement is for joint to have D=2 variables and for Gibbs to alternate between the two."
   ]
  },
  {
   "cell_type": "markdown",
   "metadata": {},
   "source": [
    "Define the parameters of the joint Gaussian distribution"
   ]
  },
  {
   "cell_type": "code",
   "execution_count": 28,
   "metadata": {},
   "outputs": [],
   "source": [
    "import numpy as np\n",
    "\n",
    "mu = np.array([4.0, 5.0])\n",
    "std = np.array([1.0, 2.0])\n",
    "\n",
    "coef = 0.6"
   ]
  },
  {
   "cell_type": "markdown",
   "metadata": {},
   "source": [
    "Precompute conditional distribution parameters"
   ]
  },
  {
   "cell_type": "code",
   "execution_count": 29,
   "metadata": {},
   "outputs": [],
   "source": [
    "\n",
    "cond_var_x = std[0]**2 * (1 - coef**2)  # Variance of X|Y\n",
    "cond_var_y = std[1]**2 * (1 - coef**2)  # Variance of Y|X\n"
   ]
  },
  {
   "cell_type": "markdown",
   "metadata": {},
   "source": [
    "Initialize the sampler"
   ]
  },
  {
   "cell_type": "code",
   "execution_count": 30,
   "metadata": {},
   "outputs": [],
   "source": [
    "x, y = 0, 0\n",
    "n_samples = 10000\n",
    "burn_in = 100\n",
    "samples = np.zeros((n_samples, 2))"
   ]
  },
  {
   "cell_type": "markdown",
   "metadata": {},
   "source": [
    "Run Gibbs sampling"
   ]
  },
  {
   "cell_type": "code",
   "execution_count": null,
   "metadata": {},
   "outputs": [
    {
     "name": "stdout",
     "output_type": "stream",
     "text": [
      "Sample mean: [4.00804089 5.00785336]\n",
      "Sample std: [0.99950319 2.01457585]\n",
      "Sample covariance:\n",
      " [[0.99910653 1.21629491]\n",
      " [1.21629491 4.05892176]]\n"
     ]
    }
   ],
   "source": [
    "\n",
    "for i in range(n_samples + burn_in):\n",
    "    conditional_mu_x = mu[0] + coef * (std[0]/std[1]) * (y - mu[1])\n",
    "    x = np.random.normal(conditional_mu_x, np.sqrt(cond_var_x))\n",
    "    \n",
    "    conditional_mu_y = mu[1] + coef * (std[1]/std[0]) * (x - mu[0])\n",
    "    y = np.random.normal(conditional_mu_y, np.sqrt(cond_var_y))\n",
    "    \n",
    "\n",
    "    if i >= burn_in:\n",
    "        samples[i - burn_in] = [x, y]\n",
    "\n",
    "print(\"Sample mean:\", np.mean(samples, axis=0))\n",
    "print(\"Sample std:\", np.std(samples, axis=0))\n",
    "print(\"Sample covariance:\\n\", np.cov(samples.T))"
   ]
  },
  {
   "cell_type": "markdown",
   "metadata": {},
   "source": [
    "Mu : 4.01, 5.02 -> Joint Probability Mu : 4, 5 (o)\n",
    "std : 0.99, 2.01 -> Joint Probability std : 1, 2 (o)"
   ]
  }
 ],
 "metadata": {
  "kernelspec": {
   "display_name": "Python 3",
   "language": "python",
   "name": "python3"
  },
  "language_info": {
   "codemirror_mode": {
    "name": "ipython",
    "version": 3
   },
   "file_extension": ".py",
   "mimetype": "text/x-python",
   "name": "python",
   "nbconvert_exporter": "python",
   "pygments_lexer": "ipython3",
   "version": "3.11.6"
  }
 },
 "nbformat": 4,
 "nbformat_minor": 2
}
