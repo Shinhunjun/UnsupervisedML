{
 "cells": [
  {
   "cell_type": "markdown",
   "metadata": {},
   "source": [
    "Demo to Rutvik Dhopate"
   ]
  },
  {
   "cell_type": "code",
   "execution_count": null,
   "metadata": {},
   "outputs": [
    {
     "name": "stdout",
     "output_type": "stream",
     "text": [
      "(5000, 784)\n",
      "(5000,)\n"
     ]
    }
   ],
   "source": [
    "import tensorflow as tf\n",
    "import pandas as pd\n",
    "from tensorflow.keras.datasets import fashion_mnist\n",
    "import numpy as np\n",
    "\n",
    "# Load the Fashion MNIST dataset\n",
    "(train_images, train_labels), (test_images, test_labels) = fashion_mnist.load_data()\n",
    "\n",
    "train_images = train_images / 255.0\n",
    "test_images = test_images / 255.0\n",
    "\n",
    "train_images = np.array(train_images.reshape((train_images.shape[0], 28 * 28)))\n",
    "test_images = np.array(test_images.reshape((test_images.shape[0], 28 * 28)))\n",
    "\n",
    "combined_images = np.concatenate((train_images, test_images), axis=0)\n",
    "combined_labels = np.concatenate((train_labels, test_labels), axis=0)\n",
    "\n",
    "\n",
    "sample_indices = np.random.choice(combined_images.shape[0], 5000, replace=False)\n",
    "sampled_images = combined_images[sample_indices]\n",
    "sampled_labels = combined_labels[sample_indices]\n",
    "\n",
    "print(sampled_images.shape)\n",
    "print(sampled_labels.shape)"
   ]
  },
  {
   "cell_type": "code",
   "execution_count": null,
   "metadata": {},
   "outputs": [],
   "source": [
    "import numpy as np\n",
    "import matplotlib.pyplot as plt\n",
    "from tqdm import tqdm\n",
    "\n",
    "def compute_k_distance_euclidean_chunk(X, k, batch_size=100, normalize=True):\n",
    "\n",
    "    n = len(X)\n",
    "    \n",
    "    if normalize:\n",
    "        norms = np.linalg.norm(X, axis=1, keepdims=True)\n",
    "        norms[norms == 0] = 1e-12\n",
    "        X_norm = X / norms\n",
    "    else:\n",
    "        X_norm = X\n",
    "    \n",
    "    k_distances = np.zeros(n, dtype=float)\n",
    "\n",
    "    print(\"Computing k-distance (Euclidean) in chunks...\")\n",
    "    for start in tqdm(range(0, n, batch_size), desc=\"k-distance - chunk loop\"):\n",
    "        end = min(start + batch_size, n)\n",
    "\n",
    "        X_chunk = X[start:end]  \n",
    "        chunk_diff = X_chunk[:, np.newaxis, :] - X[np.newaxis, :, :]\n",
    "\n",
    "        chunk_dist_sq = np.sum(chunk_diff**2, axis=2)\n",
    "        chunk_distance = np.sqrt(chunk_dist_sq)\n",
    "\n",
    "        for i_local, row_distances in enumerate(chunk_distance):\n",
    "            i_global = start + i_local\n",
    "            if k <= 0:\n",
    "                raise ValueError(\"k must be a positive integer.\")\n",
    "            \n",
    "            kth_dist = np.partition(row_distances, k-1)[k-1]\n",
    "            k_distances[i_global] = kth_dist\n",
    "\n",
    "    return k_distances\n",
    "\n",
    "def plot_k_distance(k_distances):\n",
    "    \"\"\"\n",
    "    k-distances 배열을 오름차순 정렬해 그래프(엘보 차트)를 그린다.\n",
    "    \"\"\"\n",
    "    k_distances_sorted = np.sort(k_distances)\n",
    "    plt.figure(figsize=(6,4))\n",
    "    plt.plot(k_distances_sorted)\n",
    "    plt.xlabel(\"Points (sorted by distance)\")\n",
    "    plt.ylabel(\"k-distance (cosine)\")\n",
    "    plt.title(\"k-distance Graph\")\n",
    "    plt.grid(True)\n",
    "    plt.show()"
   ]
  },
  {
   "cell_type": "code",
   "execution_count": null,
   "metadata": {},
   "outputs": [],
   "source": [
    "import numpy as np\n",
    "import matplotlib.pyplot as plt\n",
    "from sklearn.cluster import DBSCAN\n",
    "from sklearn.metrics import silhouette_score\n",
    "from tqdm import tqdm\n",
    "\n",
    "def dbscan_core_first_euclidean_manual_batch(X, eps, min_pts, batch_size=1000):\n",
    "    n = len(X)\n",
    "    \n",
    "    labels = np.zeros(n, dtype=int)\n",
    "    visited = np.zeros(n, dtype=bool)\n",
    "    is_core = np.zeros(n, dtype=bool)\n",
    "    neighbors_list = [[] for _ in range(n)]\n",
    "    \n",
    "    for start in tqdm(range(0, n, batch_size), desc=\"Precomputing neighbors\"):\n",
    "        end = min(start + batch_size, n)\n",
    "        X_chunk = X[start:end]\n",
    "        \n",
    "        chunk_diff = X_chunk[:, np.newaxis, :] - X[np.newaxis, :, :]\n",
    "        chunk_distance = np.sqrt(np.sum(chunk_diff**2, axis=2))\n",
    "        \n",
    "        for i_local, row_distances in enumerate(chunk_distance):\n",
    "            i_global = start + i_local\n",
    "            neighbor_indices = np.where(row_distances <= eps)[0]\n",
    "            neighbors_list[i_global] = list(set(neighbor_indices.tolist()))\n",
    "    \n",
    "    for i in range(n):\n",
    "        if len(neighbors_list[i]) >= min_pts:\n",
    "            is_core[i] = True\n",
    "        else:\n",
    "            labels[i] = -1  \n",
    "    \n",
    "    \n",
    "    def expand_cluster_core(core_idx, cluster_id):\n",
    "        labels[core_idx] = cluster_id\n",
    "        seed_queue = set(neighbors_list[core_idx])\n",
    "        while seed_queue:\n",
    "            current_pt = seed_queue.pop()\n",
    "            if not visited[current_pt]:\n",
    "                visited[current_pt] = True\n",
    "                if is_core[current_pt]:\n",
    "                    seed_queue.update(neighbors_list[current_pt])\n",
    "            if labels[current_pt] in [0, -1]:\n",
    "                labels[current_pt] = cluster_id\n",
    "    \n",
    "    # 클러스터 확장\n",
    "    cluster_id = 0\n",
    "    for i in tqdm(range(n), desc=\"Expanding clusters\"):\n",
    "        if is_core[i] and not visited[i]:\n",
    "            cluster_id += 1\n",
    "            visited[i] = True\n",
    "            expand_cluster_core(i, cluster_id)\n",
    "    \n",
    "    return labels"
   ]
  },
  {
   "cell_type": "markdown",
   "metadata": {},
   "source": [
    "K=10"
   ]
  },
  {
   "cell_type": "code",
   "execution_count": 6,
   "metadata": {},
   "outputs": [
    {
     "name": "stdout",
     "output_type": "stream",
     "text": [
      "Computing k-distance (Euclidean) in chunks...\n"
     ]
    },
    {
     "name": "stderr",
     "output_type": "stream",
     "text": [
      "k-distance - chunk loop: 100%|██████████| 50/50 [07:03<00:00,  8.48s/it]\n"
     ]
    },
    {
     "data": {
      "image/png": "[encoded data removed]",
      "text/plain": [
       "<Figure size 600x400 with 1 Axes>"
      ]
     },
     "metadata": {},
     "output_type": "display_data"
    }
   ],
   "source": [
    "distance_matrix = compute_k_distance_euclidean_chunk(sampled_images, 10, batch_size=100, normalize=True)\n",
    "plot_k_distance(distance_matrix)"
   ]
  },
  {
   "cell_type": "markdown",
   "metadata": {},
   "source": [
    "Test eps with 5 6 7 8 9"
   ]
  },
  {
   "cell_type": "code",
   "execution_count": null,
   "metadata": {},
   "outputs": [
    {
     "name": "stdout",
     "output_type": "stream",
     "text": [
      "\n",
      "=== DBSCAN with eps=5 ===\n"
     ]
    },
    {
     "name": "stderr",
     "output_type": "stream",
     "text": [
      "Precomputing neighbors: 100%|██████████| 50/50 [07:25<00:00,  8.91s/it]\n",
      "Expanding clusters: 100%|██████████| 5000/5000 [00:00<00:00, 8957.06it/s]\n"
     ]
    },
    {
     "name": "stdout",
     "output_type": "stream",
     "text": [
      "DBSCAN Finished.\n",
      "\n",
      "=== Cluster counts (excluding noise/unassigned) ===\n",
      "Cluster -1: 1559 points\n",
      "Cluster 1: 3432 points\n",
      "Cluster 2: 9 points\n",
      "Number of clusters (excluding noise & 0): 2\n",
      "Silhouette score (eps=5): 0.0723\n",
      "\n",
      "=== DBSCAN with eps=6 ===\n"
     ]
    },
    {
     "name": "stderr",
     "output_type": "stream",
     "text": [
      "Precomputing neighbors: 100%|██████████| 50/50 [04:52<00:00,  5.86s/it]\n",
      "Expanding clusters: 100%|██████████| 5000/5000 [00:09<00:00, 507.96it/s]\n"
     ]
    },
    {
     "name": "stdout",
     "output_type": "stream",
     "text": [
      "DBSCAN Finished.\n",
      "\n",
      "=== Cluster counts (excluding noise/unassigned) ===\n",
      "Cluster -1: 551 points\n",
      "Cluster 1: 4449 points\n",
      "Number of clusters (excluding noise & 0): 1\n",
      "Not enough clusters to compute a Silhouette score.\n",
      "\n",
      "=== DBSCAN with eps=7 ===\n"
     ]
    },
    {
     "name": "stderr",
     "output_type": "stream",
     "text": [
      "Precomputing neighbors: 100%|██████████| 50/50 [04:37<00:00,  5.54s/it]\n",
      "Expanding clusters: 100%|██████████| 5000/5000 [01:55<00:00, 43.39it/s]  \n"
     ]
    },
    {
     "name": "stdout",
     "output_type": "stream",
     "text": [
      "DBSCAN Finished.\n",
      "\n",
      "=== Cluster counts (excluding noise/unassigned) ===\n",
      "Cluster -1: 136 points\n",
      "Cluster 1: 4864 points\n",
      "Number of clusters (excluding noise & 0): 1\n",
      "Not enough clusters to compute a Silhouette score.\n",
      "\n",
      "=== DBSCAN with eps=8 ===\n"
     ]
    },
    {
     "name": "stderr",
     "output_type": "stream",
     "text": [
      "Precomputing neighbors: 100%|██████████| 50/50 [03:26<00:00,  4.13s/it]\n",
      "Expanding clusters:   0%|          | 0/5000 [07:46<?, ?it/s]\n"
     ]
    },
    {
     "ename": "KeyboardInterrupt",
     "evalue": "",
     "output_type": "error",
     "traceback": [
      "\u001b[0;31m---------------------------------------------------------------------------\u001b[0m",
      "\u001b[0;31mKeyboardInterrupt\u001b[0m                         Traceback (most recent call last)",
      "Cell \u001b[0;32mIn[8], line 8\u001b[0m\n\u001b[1;32m      6\u001b[0m \u001b[38;5;28;01mfor\u001b[39;00m eps_val \u001b[38;5;129;01min\u001b[39;00m eps_candidates:\n\u001b[1;32m      7\u001b[0m     \u001b[38;5;28mprint\u001b[39m(\u001b[38;5;124mf\u001b[39m\u001b[38;5;124m\"\u001b[39m\u001b[38;5;130;01m\\n\u001b[39;00m\u001b[38;5;124m=== DBSCAN with eps=\u001b[39m\u001b[38;5;132;01m{\u001b[39;00meps_val\u001b[38;5;132;01m}\u001b[39;00m\u001b[38;5;124m ===\u001b[39m\u001b[38;5;124m\"\u001b[39m)\n\u001b[0;32m----> 8\u001b[0m     labels \u001b[38;5;241m=\u001b[39m \u001b[43mdbscan_core_first_euclidean_manual_batch\u001b[49m\u001b[43m(\u001b[49m\n\u001b[1;32m      9\u001b[0m \u001b[43m        \u001b[49m\u001b[43msampled_images\u001b[49m\u001b[43m,\u001b[49m\u001b[43m  \u001b[49m\u001b[38;5;66;43;03m# 입력 데이터\u001b[39;49;00m\n\u001b[1;32m     10\u001b[0m \u001b[43m        \u001b[49m\u001b[43meps\u001b[49m\u001b[38;5;241;43m=\u001b[39;49m\u001b[43meps_val\u001b[49m\u001b[43m,\u001b[49m\n\u001b[1;32m     11\u001b[0m \u001b[43m        \u001b[49m\u001b[43mmin_pts\u001b[49m\u001b[38;5;241;43m=\u001b[39;49m\u001b[38;5;241;43m10\u001b[39;49m\u001b[43m,\u001b[49m\n\u001b[1;32m     12\u001b[0m \u001b[43m        \u001b[49m\u001b[43mbatch_size\u001b[49m\u001b[38;5;241;43m=\u001b[39;49m\u001b[38;5;241;43m100\u001b[39;49m\n\u001b[1;32m     13\u001b[0m \u001b[43m    \u001b[49m\u001b[43m)\u001b[49m\n\u001b[1;32m     15\u001b[0m     \u001b[38;5;28mprint\u001b[39m(\u001b[38;5;124m\"\u001b[39m\u001b[38;5;124mDBSCAN Finished.\u001b[39m\u001b[38;5;124m\"\u001b[39m)\n\u001b[1;32m     16\u001b[0m     unique_labels \u001b[38;5;241m=\u001b[39m np\u001b[38;5;241m.\u001b[39munique(labels)\n",
      "Cell \u001b[0;32mIn[7], line 54\u001b[0m, in \u001b[0;36mdbscan_core_first_euclidean_manual_batch\u001b[0;34m(X, eps, min_pts, batch_size)\u001b[0m\n\u001b[1;32m     52\u001b[0m         cluster_id \u001b[38;5;241m+\u001b[39m\u001b[38;5;241m=\u001b[39m \u001b[38;5;241m1\u001b[39m\n\u001b[1;32m     53\u001b[0m         visited[i] \u001b[38;5;241m=\u001b[39m \u001b[38;5;28;01mTrue\u001b[39;00m\n\u001b[0;32m---> 54\u001b[0m         \u001b[43mexpand_cluster_core\u001b[49m\u001b[43m(\u001b[49m\u001b[43mi\u001b[49m\u001b[43m,\u001b[49m\u001b[43m \u001b[49m\u001b[43mcluster_id\u001b[49m\u001b[43m)\u001b[49m\n\u001b[1;32m     56\u001b[0m \u001b[38;5;28;01mreturn\u001b[39;00m labels\n",
      "Cell \u001b[0;32mIn[7], line 40\u001b[0m, in \u001b[0;36mdbscan_core_first_euclidean_manual_batch.<locals>.expand_cluster_core\u001b[0;34m(core_idx, cluster_id)\u001b[0m\n\u001b[1;32m     38\u001b[0m seed_queue \u001b[38;5;241m=\u001b[39m \u001b[38;5;28mlist\u001b[39m(neighbors_list[core_idx])\n\u001b[1;32m     39\u001b[0m \u001b[38;5;28;01mwhile\u001b[39;00m seed_queue:\n\u001b[0;32m---> 40\u001b[0m     current_pt \u001b[38;5;241m=\u001b[39m \u001b[43mseed_queue\u001b[49m\u001b[38;5;241;43m.\u001b[39;49m\u001b[43mpop\u001b[49m\u001b[43m(\u001b[49m\u001b[38;5;241;43m0\u001b[39;49m\u001b[43m)\u001b[49m\n\u001b[1;32m     41\u001b[0m     \u001b[38;5;28;01mif\u001b[39;00m \u001b[38;5;129;01mnot\u001b[39;00m visited[current_pt]:\n\u001b[1;32m     42\u001b[0m         visited[current_pt] \u001b[38;5;241m=\u001b[39m \u001b[38;5;28;01mTrue\u001b[39;00m\n",
      "\u001b[0;31mKeyboardInterrupt\u001b[0m: "
     ]
    }
   ],
   "source": [
    "import numpy as np\n",
    "from sklearn.metrics import silhouette_score\n",
    "\n",
    "eps_candidates = [5, 6, 7, 8, 9]\n",
    "\n",
    "for eps_val in eps_candidates:\n",
    "    print(f\"\\n=== DBSCAN with eps={eps_val} ===\")\n",
    "    labels = dbscan_core_first_euclidean_manual_batch(\n",
    "        sampled_images,  \n",
    "        eps=eps_val,\n",
    "        min_pts=10,\n",
    "        batch_size=100\n",
    "    )\n",
    "    \n",
    "    print(\"DBSCAN Finished.\")\n",
    "    unique_labels = np.unique(labels)\n",
    "    unique_valid_labels, valid_counts = np.unique(labels, return_counts=True)\n",
    "\n",
    "    print(\"\\n=== Cluster counts (excluding noise/unassigned) ===\")\n",
    "    for cluster_id, count in zip(unique_valid_labels, valid_counts):\n",
    "        print(f\"Cluster {cluster_id}: {count} points\")\n",
    "    \n",
    "    mask = (labels != -1) & (labels != 0)\n",
    "    valid_labels = labels[mask]\n",
    "    \n",
    "    n_clusters = len(set(valid_labels))\n",
    "    print(\"Number of clusters (excluding noise & 0):\", n_clusters)\n",
    "    \n",
    "\n",
    "    if n_clusters >= 2:\n",
    "    \n",
    "        X_valid = sampled_images[mask]\n",
    "        sil_score = silhouette_score(X_valid, valid_labels)\n",
    "        print(f\"Silhouette score (eps={eps_val}): {sil_score:.4f}\")\n",
    "    else:\n",
    "        print(\"Not enough clusters to compute a Silhouette score.\")"
   ]
  },
  {
   "cell_type": "markdown",
   "metadata": {},
   "source": [
    "Stopped running since further running seems meaningless"
   ]
  },
  {
   "cell_type": "markdown",
   "metadata": {},
   "source": [
    "K=5"
   ]
  },
  {
   "cell_type": "code",
   "execution_count": 9,
   "metadata": {},
   "outputs": [
    {
     "name": "stdout",
     "output_type": "stream",
     "text": [
      "Computing k-distance (Euclidean) in chunks...\n"
     ]
    },
    {
     "name": "stderr",
     "output_type": "stream",
     "text": [
      "k-distance - chunk loop: 100%|██████████| 50/50 [04:09<00:00,  4.98s/it]\n"
     ]
    },
    {
     "data": {
      "image/png": "[encoded data removed]",
      "text/plain": [
       "<Figure size 600x400 with 1 Axes>"
      ]
     },
     "metadata": {},
     "output_type": "display_data"
    }
   ],
   "source": [
    "distance_matrix = compute_k_distance_euclidean_chunk(sampled_images, 5, batch_size=100, normalize=True)\n",
    "plot_k_distance(distance_matrix)"
   ]
  },
  {
   "cell_type": "markdown",
   "metadata": {},
   "source": [
    "Test with 5 6 7 8 9 10"
   ]
  },
  {
   "cell_type": "code",
   "execution_count": null,
   "metadata": {},
   "outputs": [
    {
     "name": "stdout",
     "output_type": "stream",
     "text": [
      "\n",
      "=== DBSCAN with eps=1 ===\n"
     ]
    },
    {
     "name": "stderr",
     "output_type": "stream",
     "text": [
      "Precomputing neighbors: 100%|██████████| 50/50 [06:20<00:00,  7.62s/it]\n",
      "Expanding clusters: 100%|██████████| 5000/5000 [00:00<00:00, 549337.80it/s]\n"
     ]
    },
    {
     "name": "stdout",
     "output_type": "stream",
     "text": [
      "DBSCAN Finished.\n",
      "\n",
      "=== Cluster counts (excluding noise/unassigned) ===\n",
      "Cluster -1: 5000 points\n",
      "Number of clusters (excluding noise & 0): 0\n",
      "Not enough clusters to compute a Silhouette score.\n",
      "\n",
      "=== DBSCAN with eps=2 ===\n"
     ]
    },
    {
     "name": "stderr",
     "output_type": "stream",
     "text": [
      "Precomputing neighbors: 100%|██████████| 50/50 [04:57<00:00,  5.95s/it]\n",
      "Expanding clusters: 100%|██████████| 5000/5000 [00:00<00:00, 2232200.11it/s]\n"
     ]
    },
    {
     "name": "stdout",
     "output_type": "stream",
     "text": [
      "DBSCAN Finished.\n",
      "\n",
      "=== Cluster counts (excluding noise/unassigned) ===\n",
      "Cluster -1: 5000 points\n",
      "Number of clusters (excluding noise & 0): 0\n",
      "Not enough clusters to compute a Silhouette score.\n",
      "\n",
      "=== DBSCAN with eps=3 ===\n"
     ]
    },
    {
     "name": "stderr",
     "output_type": "stream",
     "text": [
      "Precomputing neighbors: 100%|██████████| 50/50 [04:58<00:00,  5.97s/it]\n",
      "Expanding clusters: 100%|██████████| 5000/5000 [00:00<00:00, 797062.83it/s]\n"
     ]
    },
    {
     "name": "stdout",
     "output_type": "stream",
     "text": [
      "DBSCAN Finished.\n",
      "\n",
      "=== Cluster counts (excluding noise/unassigned) ===\n",
      "Cluster -1: 4617 points\n",
      "Cluster 1: 88 points\n",
      "Cluster 2: 200 points\n",
      "Cluster 3: 15 points\n",
      "Cluster 4: 12 points\n",
      "Cluster 5: 8 points\n",
      "Cluster 6: 8 points\n",
      "Cluster 7: 20 points\n",
      "Cluster 8: 5 points\n",
      "Cluster 9: 9 points\n",
      "Cluster 10: 5 points\n",
      "Cluster 11: 4 points\n",
      "Cluster 12: 4 points\n",
      "Cluster 13: 5 points\n",
      "Number of clusters (excluding noise & 0): 13\n",
      "Silhouette score (eps=3): 0.2413\n",
      "\n",
      "=== DBSCAN with eps=4 ===\n"
     ]
    },
    {
     "name": "stderr",
     "output_type": "stream",
     "text": [
      "Precomputing neighbors: 100%|██████████| 50/50 [04:29<00:00,  5.38s/it]\n",
      "Expanding clusters: 100%|██████████| 5000/5000 [00:00<00:00, 333776.64it/s]\n"
     ]
    },
    {
     "name": "stdout",
     "output_type": "stream",
     "text": [
      "DBSCAN Finished.\n",
      "\n",
      "=== Cluster counts (excluding noise/unassigned) ===\n",
      "Cluster -1: 3085 points\n",
      "Cluster 1: 1654 points\n",
      "Cluster 2: 150 points\n",
      "Cluster 3: 5 points\n",
      "Cluster 4: 9 points\n",
      "Cluster 5: 5 points\n",
      "Cluster 6: 12 points\n",
      "Cluster 7: 4 points\n",
      "Cluster 8: 13 points\n",
      "Cluster 9: 33 points\n",
      "Cluster 10: 9 points\n",
      "Cluster 11: 4 points\n",
      "Cluster 12: 7 points\n",
      "Cluster 13: 5 points\n",
      "Cluster 14: 5 points\n",
      "Number of clusters (excluding noise & 0): 14\n",
      "Silhouette score (eps=4): -0.2044\n",
      "\n",
      "=== DBSCAN with eps=5 ===\n"
     ]
    },
    {
     "name": "stderr",
     "output_type": "stream",
     "text": [
      "Precomputing neighbors: 100%|██████████| 50/50 [04:34<00:00,  5.49s/it]\n",
      "Expanding clusters: 100%|██████████| 5000/5000 [00:00<00:00, 144133.17it/s]\n"
     ]
    },
    {
     "name": "stdout",
     "output_type": "stream",
     "text": [
      "DBSCAN Finished.\n",
      "\n",
      "=== Cluster counts (excluding noise/unassigned) ===\n",
      "Cluster -1: 1342 points\n",
      "Cluster 1: 3572 points\n",
      "Cluster 2: 6 points\n",
      "Cluster 3: 18 points\n",
      "Cluster 4: 13 points\n",
      "Cluster 5: 32 points\n",
      "Cluster 6: 5 points\n",
      "Cluster 7: 5 points\n",
      "Cluster 8: 5 points\n",
      "Cluster 9: 2 points\n",
      "Number of clusters (excluding noise & 0): 9\n",
      "Silhouette score (eps=5): -0.1194\n"
     ]
    }
   ],
   "source": [
    "import numpy as np\n",
    "from sklearn.metrics import silhouette_score\n",
    "\n",
    "eps_candidates = [1, 2, 3, 4, 5]\n",
    "\n",
    "for eps_val in eps_candidates:\n",
    "    print(f\"\\n=== DBSCAN with eps={eps_val} ===\")\n",
    "    labels = dbscan_core_first_euclidean_manual_batch(\n",
    "        sampled_images,  \n",
    "        eps=eps_val,\n",
    "        min_pts=5,\n",
    "        batch_size=100\n",
    "    )\n",
    "    \n",
    "    print(\"DBSCAN Finished.\")\n",
    "    unique_labels = np.unique(labels)\n",
    "    unique_valid_labels, valid_counts = np.unique(labels, return_counts=True)\n",
    "\n",
    "    print(\"\\n=== Cluster counts (excluding noise/unassigned) ===\")\n",
    "    for cluster_id, count in zip(unique_valid_labels, valid_counts):\n",
    "        print(f\"Cluster {cluster_id}: {count} points\")\n",
    "    \n",
    "    mask = (labels != -1) & (labels != 0)\n",
    "    valid_labels = labels[mask]\n",
    "    \n",
    "    n_clusters = len(set(valid_labels))\n",
    "    print(\"Number of clusters (excluding noise & 0):\", n_clusters)\n",
    "    \n",
    "    if n_clusters >= 2:\n",
    "        \n",
    "        X_valid = sampled_images[mask]\n",
    "        sil_score = silhouette_score(X_valid, valid_labels)\n",
    "        print(f\"Silhouette score (eps={eps_val}): {sil_score:.4f}\")\n",
    "    else:\n",
    "        print(\"Not enough clusters to compute a Silhouette score.\")"
   ]
  },
  {
   "cell_type": "code",
   "execution_count": 13,
   "metadata": {},
   "outputs": [
    {
     "name": "stdout",
     "output_type": "stream",
     "text": [
      "Computing k-distance (Euclidean) in chunks...\n"
     ]
    },
    {
     "name": "stderr",
     "output_type": "stream",
     "text": [
      "k-distance - chunk loop: 100%|██████████| 50/50 [05:37<00:00,  6.76s/it]\n"
     ]
    },
    {
     "data": {
      "image/png": "[encoded data removed]",
      "text/plain": [
       "<Figure size 600x400 with 1 Axes>"
      ]
     },
     "metadata": {},
     "output_type": "display_data"
    }
   ],
   "source": [
    "distance_matrix = compute_k_distance_euclidean_chunk(sampled_images, 3, batch_size=100, normalize=True)\n",
    "plot_k_distance(distance_matrix)"
   ]
  },
  {
   "cell_type": "code",
   "execution_count": null,
   "metadata": {},
   "outputs": [
    {
     "name": "stdout",
     "output_type": "stream",
     "text": [
      "\n",
      "=== DBSCAN with eps=2 ===\n"
     ]
    },
    {
     "name": "stderr",
     "output_type": "stream",
     "text": [
      "Precomputing neighbors: 100%|██████████| 50/50 [08:35<00:00, 10.32s/it]\n",
      "Expanding clusters: 100%|██████████| 5000/5000 [00:00<00:00, 1842516.25it/s]\n"
     ]
    },
    {
     "name": "stdout",
     "output_type": "stream",
     "text": [
      "DBSCAN Finished.\n",
      "\n",
      "=== Cluster counts (excluding noise/unassigned) ===\n",
      "Cluster -1: 4988 points\n",
      "Cluster 1: 3 points\n",
      "Cluster 2: 3 points\n",
      "Cluster 3: 3 points\n",
      "Cluster 4: 3 points\n",
      "Number of clusters (excluding noise & 0): 4\n",
      "Silhouette score (eps=2): 0.5508\n",
      "\n",
      "=== DBSCAN with eps=3 ===\n"
     ]
    },
    {
     "name": "stderr",
     "output_type": "stream",
     "text": [
      "Precomputing neighbors: 100%|██████████| 50/50 [07:50<00:00,  9.41s/it]\n",
      "Expanding clusters: 100%|██████████| 5000/5000 [00:00<00:00, 1306229.83it/s]\n"
     ]
    },
    {
     "name": "stdout",
     "output_type": "stream",
     "text": [
      "DBSCAN Finished.\n",
      "\n",
      "=== Cluster counts (excluding noise/unassigned) ===\n",
      "Cluster -1: 4467 points\n",
      "Cluster 1: 92 points\n",
      "Cluster 2: 228 points\n",
      "Cluster 3: 5 points\n",
      "Cluster 4: 5 points\n",
      "Cluster 5: 17 points\n",
      "Cluster 6: 3 points\n",
      "Cluster 7: 10 points\n",
      "Cluster 8: 19 points\n",
      "Cluster 9: 5 points\n",
      "Cluster 10: 35 points\n",
      "Cluster 11: 3 points\n",
      "Cluster 12: 4 points\n",
      "Cluster 13: 3 points\n",
      "Cluster 14: 11 points\n",
      "Cluster 15: 4 points\n",
      "Cluster 16: 5 points\n",
      "Cluster 17: 6 points\n",
      "Cluster 18: 3 points\n",
      "Cluster 19: 3 points\n",
      "Cluster 20: 4 points\n",
      "Cluster 21: 3 points\n",
      "Cluster 22: 3 points\n",
      "Cluster 23: 4 points\n",
      "Cluster 24: 4 points\n",
      "Cluster 25: 3 points\n",
      "Cluster 26: 5 points\n",
      "Cluster 27: 3 points\n",
      "Cluster 28: 3 points\n",
      "Cluster 29: 4 points\n",
      "Cluster 30: 3 points\n",
      "Cluster 31: 3 points\n",
      "Cluster 32: 3 points\n",
      "Cluster 33: 3 points\n",
      "Cluster 34: 3 points\n",
      "Cluster 35: 6 points\n",
      "Cluster 36: 3 points\n",
      "Cluster 37: 4 points\n",
      "Cluster 38: 3 points\n",
      "Cluster 39: 5 points\n",
      "Number of clusters (excluding noise & 0): 39\n",
      "Silhouette score (eps=3): 0.1197\n",
      "\n",
      "=== DBSCAN with eps=4 ===\n"
     ]
    },
    {
     "name": "stderr",
     "output_type": "stream",
     "text": [
      "Precomputing neighbors: 100%|██████████| 50/50 [04:58<00:00,  5.97s/it]\n",
      "Expanding clusters: 100%|██████████| 5000/5000 [00:00<00:00, 411520.97it/s]\n"
     ]
    },
    {
     "name": "stdout",
     "output_type": "stream",
     "text": [
      "DBSCAN Finished.\n",
      "\n",
      "=== Cluster counts (excluding noise/unassigned) ===\n",
      "Cluster -1: 2858 points\n",
      "Cluster 1: 1973 points\n",
      "Cluster 2: 5 points\n",
      "Cluster 3: 6 points\n",
      "Cluster 4: 4 points\n",
      "Cluster 5: 13 points\n",
      "Cluster 6: 6 points\n",
      "Cluster 7: 7 points\n",
      "Cluster 8: 6 points\n",
      "Cluster 9: 3 points\n",
      "Cluster 10: 16 points\n",
      "Cluster 11: 4 points\n",
      "Cluster 12: 4 points\n",
      "Cluster 13: 3 points\n",
      "Cluster 14: 4 points\n",
      "Cluster 15: 3 points\n",
      "Cluster 16: 7 points\n",
      "Cluster 17: 3 points\n",
      "Cluster 18: 3 points\n",
      "Cluster 19: 5 points\n",
      "Cluster 20: 4 points\n",
      "Cluster 21: 5 points\n",
      "Cluster 22: 3 points\n",
      "Cluster 23: 3 points\n",
      "Cluster 24: 3 points\n",
      "Cluster 25: 3 points\n",
      "Cluster 26: 3 points\n",
      "Cluster 27: 3 points\n",
      "Cluster 28: 12 points\n",
      "Cluster 29: 3 points\n",
      "Cluster 30: 4 points\n",
      "Cluster 31: 3 points\n",
      "Cluster 32: 3 points\n",
      "Cluster 33: 4 points\n",
      "Cluster 34: 3 points\n",
      "Cluster 35: 5 points\n",
      "Cluster 36: 3 points\n",
      "Number of clusters (excluding noise & 0): 36\n",
      "Silhouette score (eps=4): -0.3292\n",
      "\n",
      "=== DBSCAN with eps=5 ===\n"
     ]
    },
    {
     "name": "stderr",
     "output_type": "stream",
     "text": [
      "Precomputing neighbors:   4%|▍         | 2/50 [00:22<09:02, 11.31s/it]\n"
     ]
    },
    {
     "ename": "KeyboardInterrupt",
     "evalue": "",
     "output_type": "error",
     "traceback": [
      "\u001b[0;31m---------------------------------------------------------------------------\u001b[0m",
      "\u001b[0;31mKeyboardInterrupt\u001b[0m                         Traceback (most recent call last)",
      "Cell \u001b[0;32mIn[14], line 8\u001b[0m\n\u001b[1;32m      6\u001b[0m \u001b[38;5;28;01mfor\u001b[39;00m eps_val \u001b[38;5;129;01min\u001b[39;00m eps_candidates:\n\u001b[1;32m      7\u001b[0m     \u001b[38;5;28mprint\u001b[39m(\u001b[38;5;124mf\u001b[39m\u001b[38;5;124m\"\u001b[39m\u001b[38;5;130;01m\\n\u001b[39;00m\u001b[38;5;124m=== DBSCAN with eps=\u001b[39m\u001b[38;5;132;01m{\u001b[39;00meps_val\u001b[38;5;132;01m}\u001b[39;00m\u001b[38;5;124m ===\u001b[39m\u001b[38;5;124m\"\u001b[39m)\n\u001b[0;32m----> 8\u001b[0m     labels \u001b[38;5;241m=\u001b[39m \u001b[43mdbscan_core_first_euclidean_manual_batch\u001b[49m\u001b[43m(\u001b[49m\n\u001b[1;32m      9\u001b[0m \u001b[43m        \u001b[49m\u001b[43msampled_images\u001b[49m\u001b[43m,\u001b[49m\u001b[43m  \u001b[49m\u001b[38;5;66;43;03m# 입력 데이터\u001b[39;49;00m\n\u001b[1;32m     10\u001b[0m \u001b[43m        \u001b[49m\u001b[43meps\u001b[49m\u001b[38;5;241;43m=\u001b[39;49m\u001b[43meps_val\u001b[49m\u001b[43m,\u001b[49m\n\u001b[1;32m     11\u001b[0m \u001b[43m        \u001b[49m\u001b[43mmin_pts\u001b[49m\u001b[38;5;241;43m=\u001b[39;49m\u001b[38;5;241;43m3\u001b[39;49m\u001b[43m,\u001b[49m\n\u001b[1;32m     12\u001b[0m \u001b[43m        \u001b[49m\u001b[43mbatch_size\u001b[49m\u001b[38;5;241;43m=\u001b[39;49m\u001b[38;5;241;43m100\u001b[39;49m\n\u001b[1;32m     13\u001b[0m \u001b[43m    \u001b[49m\u001b[43m)\u001b[49m\n\u001b[1;32m     15\u001b[0m     \u001b[38;5;28mprint\u001b[39m(\u001b[38;5;124m\"\u001b[39m\u001b[38;5;124mDBSCAN Finished.\u001b[39m\u001b[38;5;124m\"\u001b[39m)\n\u001b[1;32m     16\u001b[0m     unique_labels \u001b[38;5;241m=\u001b[39m np\u001b[38;5;241m.\u001b[39munique(labels)\n",
      "Cell \u001b[0;32mIn[11], line 21\u001b[0m, in \u001b[0;36mdbscan_core_first_euclidean_manual_batch\u001b[0;34m(X, eps, min_pts, batch_size)\u001b[0m\n\u001b[1;32m     18\u001b[0m X_chunk \u001b[38;5;241m=\u001b[39m X[start:end]\n\u001b[1;32m     20\u001b[0m chunk_diff \u001b[38;5;241m=\u001b[39m X_chunk[:, np\u001b[38;5;241m.\u001b[39mnewaxis, :] \u001b[38;5;241m-\u001b[39m X[np\u001b[38;5;241m.\u001b[39mnewaxis, :, :]\n\u001b[0;32m---> 21\u001b[0m chunk_distance \u001b[38;5;241m=\u001b[39m np\u001b[38;5;241m.\u001b[39msqrt(\u001b[43mnp\u001b[49m\u001b[38;5;241;43m.\u001b[39;49m\u001b[43msum\u001b[49m\u001b[43m(\u001b[49m\u001b[43mchunk_diff\u001b[49m\u001b[38;5;241;43m*\u001b[39;49m\u001b[38;5;241;43m*\u001b[39;49m\u001b[38;5;241;43m2\u001b[39;49m\u001b[43m,\u001b[49m\u001b[43m \u001b[49m\u001b[43maxis\u001b[49m\u001b[38;5;241;43m=\u001b[39;49m\u001b[38;5;241;43m2\u001b[39;49m\u001b[43m)\u001b[49m)\n\u001b[1;32m     23\u001b[0m \u001b[38;5;28;01mfor\u001b[39;00m i_local, row_distances \u001b[38;5;129;01min\u001b[39;00m \u001b[38;5;28menumerate\u001b[39m(chunk_distance):\n\u001b[1;32m     24\u001b[0m     i_global \u001b[38;5;241m=\u001b[39m start \u001b[38;5;241m+\u001b[39m i_local\n",
      "File \u001b[0;32m~/.pyenv/versions/3.11.6/lib/python3.11/site-packages/numpy/core/fromnumeric.py:2313\u001b[0m, in \u001b[0;36msum\u001b[0;34m(a, axis, dtype, out, keepdims, initial, where)\u001b[0m\n\u001b[1;32m   2310\u001b[0m         \u001b[38;5;28;01mreturn\u001b[39;00m out\n\u001b[1;32m   2311\u001b[0m     \u001b[38;5;28;01mreturn\u001b[39;00m res\n\u001b[0;32m-> 2313\u001b[0m \u001b[38;5;28;01mreturn\u001b[39;00m \u001b[43m_wrapreduction\u001b[49m\u001b[43m(\u001b[49m\u001b[43ma\u001b[49m\u001b[43m,\u001b[49m\u001b[43m \u001b[49m\u001b[43mnp\u001b[49m\u001b[38;5;241;43m.\u001b[39;49m\u001b[43madd\u001b[49m\u001b[43m,\u001b[49m\u001b[43m \u001b[49m\u001b[38;5;124;43m'\u001b[39;49m\u001b[38;5;124;43msum\u001b[39;49m\u001b[38;5;124;43m'\u001b[39;49m\u001b[43m,\u001b[49m\u001b[43m \u001b[49m\u001b[43maxis\u001b[49m\u001b[43m,\u001b[49m\u001b[43m \u001b[49m\u001b[43mdtype\u001b[49m\u001b[43m,\u001b[49m\u001b[43m \u001b[49m\u001b[43mout\u001b[49m\u001b[43m,\u001b[49m\u001b[43m \u001b[49m\u001b[43mkeepdims\u001b[49m\u001b[38;5;241;43m=\u001b[39;49m\u001b[43mkeepdims\u001b[49m\u001b[43m,\u001b[49m\n\u001b[1;32m   2314\u001b[0m \u001b[43m                      \u001b[49m\u001b[43minitial\u001b[49m\u001b[38;5;241;43m=\u001b[39;49m\u001b[43minitial\u001b[49m\u001b[43m,\u001b[49m\u001b[43m \u001b[49m\u001b[43mwhere\u001b[49m\u001b[38;5;241;43m=\u001b[39;49m\u001b[43mwhere\u001b[49m\u001b[43m)\u001b[49m\n",
      "File \u001b[0;32m~/.pyenv/versions/3.11.6/lib/python3.11/site-packages/numpy/core/fromnumeric.py:88\u001b[0m, in \u001b[0;36m_wrapreduction\u001b[0;34m(obj, ufunc, method, axis, dtype, out, **kwargs)\u001b[0m\n\u001b[1;32m     85\u001b[0m         \u001b[38;5;28;01melse\u001b[39;00m:\n\u001b[1;32m     86\u001b[0m             \u001b[38;5;28;01mreturn\u001b[39;00m reduction(axis\u001b[38;5;241m=\u001b[39maxis, out\u001b[38;5;241m=\u001b[39mout, \u001b[38;5;241m*\u001b[39m\u001b[38;5;241m*\u001b[39mpasskwargs)\n\u001b[0;32m---> 88\u001b[0m \u001b[38;5;28;01mreturn\u001b[39;00m \u001b[43mufunc\u001b[49m\u001b[38;5;241;43m.\u001b[39;49m\u001b[43mreduce\u001b[49m\u001b[43m(\u001b[49m\u001b[43mobj\u001b[49m\u001b[43m,\u001b[49m\u001b[43m \u001b[49m\u001b[43maxis\u001b[49m\u001b[43m,\u001b[49m\u001b[43m \u001b[49m\u001b[43mdtype\u001b[49m\u001b[43m,\u001b[49m\u001b[43m \u001b[49m\u001b[43mout\u001b[49m\u001b[43m,\u001b[49m\u001b[43m \u001b[49m\u001b[38;5;241;43m*\u001b[39;49m\u001b[38;5;241;43m*\u001b[39;49m\u001b[43mpasskwargs\u001b[49m\u001b[43m)\u001b[49m\n",
      "\u001b[0;31mKeyboardInterrupt\u001b[0m: "
     ]
    }
   ],
   "source": [
    "import numpy as np\n",
    "from sklearn.metrics import silhouette_score\n",
    "\n",
    "eps_candidates = [2, 3, 4, 5, 6, 7, 8]\n",
    "\n",
    "for eps_val in eps_candidates:\n",
    "    print(f\"\\n=== DBSCAN with eps={eps_val} ===\")\n",
    "    labels = dbscan_core_first_euclidean_manual_batch(\n",
    "        sampled_images,  \n",
    "        eps=eps_val,\n",
    "        min_pts=3,\n",
    "        batch_size=100\n",
    "    )\n",
    "    \n",
    "    print(\"DBSCAN Finished.\")\n",
    "    unique_labels = np.unique(labels)\n",
    "    unique_valid_labels, valid_counts = np.unique(labels, return_counts=True)\n",
    "\n",
    "    print(\"\\n=== Cluster counts (excluding noise/unassigned) ===\")\n",
    "    for cluster_id, count in zip(unique_valid_labels, valid_counts):\n",
    "        print(f\"Cluster {cluster_id}: {count} points\")\n",
    "    \n",
    "    mask = (labels != -1) & (labels != 0)\n",
    "    valid_labels = labels[mask]\n",
    "    \n",
    "    n_clusters = len(set(valid_labels))\n",
    "    print(\"Number of clusters (excluding noise & 0):\", n_clusters)\n",
    "    \n",
    "    if n_clusters >= 2:\n",
    "        \n",
    "        X_valid = sampled_images[mask]\n",
    "        sil_score = silhouette_score(X_valid, valid_labels)\n",
    "        print(f\"Silhouette score (eps={eps_val}): {sil_score:.4f}\")\n",
    "    else:\n",
    "        print(\"Not enough clusters to compute a Silhouette score.\")"
   ]
  },
  {
   "cell_type": "markdown",
   "metadata": {},
   "source": [
    "Stop running since further running seems meaningless."
   ]
  },
  {
   "cell_type": "markdown",
   "metadata": {},
   "source": [
    "Extra Credit"
   ]
  },
  {
   "cell_type": "code",
   "execution_count": null,
   "metadata": {},
   "outputs": [],
   "source": [
    "import numpy as np\n",
    "import pandas as pd\n",
    "from tqdm import tqdm\n",
    "\n",
    "def filter_ambiguous_points(X, ground_truth_labels, eps, similarity_threshold=0.6, batch_size=1000):\n",
    "    n = len(X)\n",
    "    \n",
    "    all_sq_norms = np.sum(X**2, axis=1)  # shape: (n,)\n",
    "    neighbors_list = [None] * n\n",
    "\n",
    "    for start in tqdm(range(0, n, batch_size), desc=\"Precomputing neighbors for filtering (Euclidean)\"):\n",
    "        end = min(start + batch_size, n)\n",
    "        X_chunk = X[start:end]  \n",
    "        \n",
    "        chunk_sq_norms = np.sum(X_chunk**2, axis=1)  # shape: (batch_size,)\n",
    "        chunk_distance_sq = chunk_sq_norms[:, np.newaxis] + all_sq_norms[np.newaxis, :] - 2 * (X_chunk @ X.T)\n",
    "    \n",
    "        chunk_distance_sq = np.maximum(chunk_distance_sq, 0)\n",
    "        chunk_distance = np.sqrt(chunk_distance_sq)\n",
    "        \n",
    "        \n",
    "        for i_local, row_distances in enumerate(chunk_distance):\n",
    "            i_global = start + i_local\n",
    "            neighbor_indices = np.where(row_distances <= eps)[0]\n",
    "            neighbors_list[i_global] = tuple(np.unique(neighbor_indices))\n",
    "    \n",
    "    keep_indices = []\n",
    "\n",
    "    for i in tqdm(range(n), desc=\"Filtering ambiguous points\"):\n",
    "        neighbors = neighbors_list[i]\n",
    "    \n",
    "        if len(neighbors) == 0:\n",
    "            keep_indices.append(i)\n",
    "            continue\n",
    "        \n",
    "        same_label_count = sum(ground_truth_labels[j] == ground_truth_labels[i] for j in neighbors)\n",
    "        ratio = same_label_count / len(neighbors)\n",
    "    \n",
    "        if ratio >= similarity_threshold:\n",
    "            keep_indices.append(i)\n",
    "    \n",
    "    return keep_indices"
   ]
  },
  {
   "cell_type": "code",
   "execution_count": null,
   "metadata": {},
   "outputs": [
    {
     "name": "stdout",
     "output_type": "stream",
     "text": [
      "\n",
      "=== DBSCAN with eps=2 ===\n"
     ]
    },
    {
     "name": "stderr",
     "output_type": "stream",
     "text": [
      "Precomputing neighbors for filtering (Euclidean): 100%|██████████| 5/5 [00:00<00:00,  7.79it/s]\n",
      "Filtering ambiguous points: 100%|██████████| 5000/5000 [00:00<00:00, 276621.69it/s]\n",
      "Precomputing neighbors: 100%|██████████| 50/50 [06:12<00:00,  7.46s/it]\n",
      "Expanding clusters: 100%|██████████| 5000/5000 [00:00<00:00, 3302081.56it/s]\n"
     ]
    },
    {
     "name": "stdout",
     "output_type": "stream",
     "text": [
      "DBSCAN Finished.\n",
      "\n",
      "=== Cluster counts (excluding noise/unassigned) ===\n",
      "Cluster -1: 5000 points\n",
      "Number of clusters (excluding noise & 0): 0\n",
      "Not enough clusters to compute a Silhouette score.\n",
      "\n",
      "=== DBSCAN with eps=3 ===\n"
     ]
    },
    {
     "name": "stderr",
     "output_type": "stream",
     "text": [
      "Precomputing neighbors for filtering (Euclidean): 100%|██████████| 5/5 [00:00<00:00,  6.32it/s]\n",
      "Filtering ambiguous points: 100%|██████████| 5000/5000 [00:00<00:00, 225806.15it/s]\n",
      "Precomputing neighbors: 100%|██████████| 50/50 [04:09<00:00,  4.99s/it]\n",
      "Expanding clusters: 100%|██████████| 4958/4958 [00:00<00:00, 1127914.48it/s]\n"
     ]
    },
    {
     "name": "stdout",
     "output_type": "stream",
     "text": [
      "DBSCAN Finished.\n",
      "\n",
      "=== Cluster counts (excluding noise/unassigned) ===\n",
      "Cluster -1: 4593 points\n",
      "Cluster 1: 228 points\n",
      "Cluster 2: 34 points\n",
      "Cluster 3: 8 points\n",
      "Cluster 4: 24 points\n",
      "Cluster 5: 9 points\n",
      "Cluster 6: 7 points\n",
      "Cluster 7: 5 points\n",
      "Cluster 8: 5 points\n",
      "Cluster 9: 5 points\n",
      "Cluster 10: 6 points\n",
      "Cluster 11: 8 points\n",
      "Cluster 12: 5 points\n",
      "Cluster 13: 5 points\n",
      "Cluster 14: 6 points\n",
      "Cluster 15: 5 points\n",
      "Cluster 16: 5 points\n",
      "Number of clusters (excluding noise & 0): 16\n",
      "Silhouette score (eps=3): 0.1119\n",
      "\n",
      "=== DBSCAN with eps=4 ===\n"
     ]
    },
    {
     "name": "stderr",
     "output_type": "stream",
     "text": [
      "Precomputing neighbors for filtering (Euclidean): 100%|██████████| 5/5 [00:00<00:00,  8.25it/s]\n",
      "Filtering ambiguous points: 100%|██████████| 5000/5000 [00:00<00:00, 214006.02it/s]\n",
      "Precomputing neighbors: 100%|██████████| 46/46 [01:51<00:00,  2.43s/it]\n",
      "Expanding clusters: 100%|██████████| 4503/4503 [00:00<00:00, 1589008.15it/s]\n"
     ]
    },
    {
     "name": "stdout",
     "output_type": "stream",
     "text": [
      "DBSCAN Finished.\n",
      "\n",
      "=== Cluster counts (excluding noise/unassigned) ===\n",
      "Cluster -1: 3109 points\n",
      "Cluster 1: 356 points\n",
      "Cluster 2: 571 points\n",
      "Cluster 3: 142 points\n",
      "Cluster 4: 88 points\n",
      "Cluster 5: 14 points\n",
      "Cluster 6: 88 points\n",
      "Cluster 7: 17 points\n",
      "Cluster 8: 8 points\n",
      "Cluster 9: 5 points\n",
      "Cluster 10: 9 points\n",
      "Cluster 11: 9 points\n",
      "Cluster 12: 15 points\n",
      "Cluster 13: 5 points\n",
      "Cluster 14: 12 points\n",
      "Cluster 15: 12 points\n",
      "Cluster 16: 5 points\n",
      "Cluster 17: 10 points\n",
      "Cluster 18: 3 points\n",
      "Cluster 19: 5 points\n",
      "Cluster 20: 5 points\n",
      "Cluster 21: 5 points\n",
      "Cluster 22: 5 points\n",
      "Cluster 23: 5 points\n",
      "Number of clusters (excluding noise & 0): 23\n",
      "Silhouette score (eps=4): 0.1489\n",
      "\n",
      "=== DBSCAN with eps=5 ===\n"
     ]
    },
    {
     "name": "stderr",
     "output_type": "stream",
     "text": [
      "Precomputing neighbors for filtering (Euclidean): 100%|██████████| 5/5 [00:00<00:00,  8.20it/s]\n",
      "Filtering ambiguous points: 100%|██████████| 5000/5000 [00:00<00:00, 69055.45it/s]\n",
      "Precomputing neighbors: 100%|██████████| 35/35 [00:28<00:00,  1.22it/s]\n",
      "Expanding clusters: 100%|██████████| 3408/3408 [00:00<00:00, 1094333.80it/s]\n"
     ]
    },
    {
     "name": "stdout",
     "output_type": "stream",
     "text": [
      "DBSCAN Finished.\n",
      "\n",
      "=== Cluster counts (excluding noise/unassigned) ===\n",
      "Cluster -1: 1486 points\n",
      "Cluster 1: 429 points\n",
      "Cluster 2: 262 points\n",
      "Cluster 3: 689 points\n",
      "Cluster 4: 216 points\n",
      "Cluster 5: 111 points\n",
      "Cluster 6: 59 points\n",
      "Cluster 7: 22 points\n",
      "Cluster 8: 7 points\n",
      "Cluster 9: 5 points\n",
      "Cluster 10: 37 points\n",
      "Cluster 11: 38 points\n",
      "Cluster 12: 12 points\n",
      "Cluster 13: 6 points\n",
      "Cluster 14: 17 points\n",
      "Cluster 15: 6 points\n",
      "Cluster 16: 6 points\n",
      "Number of clusters (excluding noise & 0): 16\n",
      "Silhouette score (eps=5): 0.2138\n",
      "\n",
      "=== DBSCAN with eps=6 ===\n"
     ]
    },
    {
     "name": "stderr",
     "output_type": "stream",
     "text": [
      "Precomputing neighbors for filtering (Euclidean): 100%|██████████| 5/5 [00:00<00:00,  7.81it/s]\n",
      "Filtering ambiguous points: 100%|██████████| 5000/5000 [00:00<00:00, 23327.22it/s]\n",
      "Precomputing neighbors: 100%|██████████| 24/24 [00:10<00:00,  2.24it/s]\n",
      "Expanding clusters: 100%|██████████| 2398/2398 [00:00<00:00, 661706.64it/s]"
     ]
    },
    {
     "name": "stdout",
     "output_type": "stream",
     "text": [
      "DBSCAN Finished.\n",
      "\n",
      "=== Cluster counts (excluding noise/unassigned) ===\n",
      "Cluster -1: 597 points\n",
      "Cluster 1: 415 points\n",
      "Cluster 2: 380 points\n",
      "Cluster 3: 555 points\n",
      "Cluster 4: 191 points\n",
      "Cluster 5: 64 points\n",
      "Cluster 6: 92 points\n",
      "Cluster 7: 54 points\n",
      "Cluster 8: 7 points\n",
      "Cluster 9: 7 points\n",
      "Cluster 10: 26 points\n",
      "Cluster 11: 5 points\n",
      "Cluster 12: 5 points\n",
      "Number of clusters (excluding noise & 0): 12\n",
      "Silhouette score (eps=6): 0.2074\n"
     ]
    },
    {
     "name": "stderr",
     "output_type": "stream",
     "text": [
      "\n"
     ]
    }
   ],
   "source": [
    "import numpy as np\n",
    "from sklearn.metrics import silhouette_score\n",
    "\n",
    "eps_candidates = [2, 3, 4, 5, 6]\n",
    "\n",
    "for eps_val in eps_candidates:\n",
    "    print(f\"\\n=== DBSCAN with eps={eps_val} ===\")\n",
    "    \n",
    "    filtered_indices = filter_ambiguous_points(sampled_images, sampled_labels, eps=eps_val, similarity_threshold=0.8)\n",
    "    X_curated = sampled_images[filtered_indices]\n",
    "    ground_truth_curated = pd.Series(sampled_labels)[filtered_indices].reset_index(drop=True)\n",
    "    \n",
    "    labels = dbscan_core_first_euclidean_manual_batch(\n",
    "        X_curated,  \n",
    "        eps=eps_val,\n",
    "        min_pts=5,\n",
    "        batch_size=100\n",
    "    )\n",
    "    \n",
    "    print(\"DBSCAN Finished.\")\n",
    "    \n",
    "    \n",
    "    unique_labels = np.unique(labels)\n",
    "    unique_valid_labels, valid_counts = np.unique(labels, return_counts=True)\n",
    "\n",
    "    print(\"\\n=== Cluster counts (excluding noise/unassigned) ===\")\n",
    "    for cluster_id, count in zip(unique_valid_labels, valid_counts):\n",
    "        print(f\"Cluster {cluster_id}: {count} points\")\n",
    "    \n",
    "    mask = (labels != -1) & (labels != 0)\n",
    "    valid_labels = labels[mask]\n",
    "    \n",
    "    n_clusters = len(set(valid_labels))\n",
    "    print(\"Number of clusters (excluding noise & 0):\", n_clusters)\n",
    "    \n",
    "    if n_clusters >= 2:\n",
    "        X_valid = X_curated[mask]\n",
    "        sil_score = silhouette_score(X_valid, valid_labels)\n",
    "        print(f\"Silhouette score (eps={eps_val}): {sil_score:.4f}\")\n",
    "    else:\n",
    "        print(\"Not enough clusters to compute a Silhouette score.\")"
   ]
  }
 ],
 "metadata": {
  "kernelspec": {
   "display_name": "Python 3",
   "language": "python",
   "name": "python3"
  },
  "language_info": {
   "codemirror_mode": {
    "name": "ipython",
    "version": 3
   },
   "file_extension": ".py",
   "mimetype": "text/x-python",
   "name": "python",
   "nbconvert_exporter": "python",
   "pygments_lexer": "ipython3",
   "version": "3.11.6"
  }
 },
 "nbformat": 4,
 "nbformat_minor": 2
}
